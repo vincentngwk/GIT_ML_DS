{
 "cells": [
  {
   "cell_type": "markdown",
   "id": "0c62e8d8",
   "metadata": {},
   "source": [
    "## XGBoost"
   ]
  },
  {
   "cell_type": "markdown",
   "id": "d5f5d8f0",
   "metadata": {},
   "source": [
    "Why use XGBoost?\n",
    "- Execution Speed\n",
    "- Model Performance\n",
    "- Strong single model performance"
   ]
  },
  {
   "cell_type": "markdown",
   "id": "171e7053",
   "metadata": {},
   "source": [
    "**Note:**\n",
    "- Internally, XGBoost models represent all problems as a regression predictive modeling problem that only takes numerical values as input.\n",
    "- If data is in different form, it must be prepared into the expected format.\n",
    "- Encode string output variables for classification\n",
    "- Prepare categorical input variables using One Hot Encoding\n",
    "- Automatically handle missing data with XGBoost"
   ]
  },
  {
   "cell_type": "markdown",
   "id": "d08f9da5",
   "metadata": {},
   "source": [
    "### Worked Example of Using One-Hot Encoding for categorical inputs, and LabelEncoder for string target"
   ]
  },
  {
   "cell_type": "code",
   "execution_count": 1,
   "id": "d76c5503",
   "metadata": {},
   "outputs": [],
   "source": [
    "# binary classification, breast cancer dataset, label and one hot encoded\n",
    "from numpy import column_stack\n",
    "from pandas import read_csv\n",
    "from xgboost import XGBClassifier\n",
    "from sklearn.model_selection import train_test_split\n",
    "from sklearn.metrics import accuracy_score\n",
    "from sklearn.preprocessing import LabelEncoder\n",
    "from sklearn.preprocessing import OneHotEncoder"
   ]
  },
  {
   "cell_type": "code",
   "execution_count": 2,
   "id": "3586b64a",
   "metadata": {},
   "outputs": [],
   "source": [
    "# load data\n",
    "data = read_csv('breast-cancer.csv', header=None)\n",
    "dataset = data.values\n",
    "# split data into X and y\n",
    "X = dataset[:,0:9]\n",
    "X = X.astype(str)\n",
    "Y = dataset[:,9]"
   ]
  },
  {
   "cell_type": "code",
   "execution_count": null,
   "id": "40e1ab62",
   "metadata": {},
   "outputs": [],
   "source": [
    "# encode string input values as integers\n",
    "columns = []\n",
    "\n",
    "# We can one hot encode each feature after we have label encoded it.\n",
    "# First we must transform the feature array into a 2-dimensional NumPy array where each integer value is a\n",
    "# feature vector with a length 1.\n",
    "\n",
    "for i in range(0, X.shape[1]):\n",
    "    label_encoder = LabelEncoder()\n",
    "    feature = feature.reshape(X.shape[0],1)\n",
    "    onehot_encoder = OneHotEncoder(sparse=False, categories='auto')\n",
    "    feature = onehot_encoder.fit_transform(feature)\n",
    "    columns.append(feature)\n",
    "    \n",
    "# Collapse columns into array\n",
    "encoded_x = column_stack(columns)\n",
    "print(f\"X shape: {encoded_x.shape}\")"
   ]
  },
  {
   "cell_type": "code",
   "execution_count": null,
   "id": "3b171180",
   "metadata": {},
   "outputs": [],
   "source": [
    "# Encode string class values as integers\n",
    "label_encoder"
   ]
  },
  {
   "cell_type": "code",
   "execution_count": null,
   "id": "bb783c25",
   "metadata": {},
   "outputs": [],
   "source": []
  },
  {
   "cell_type": "code",
   "execution_count": null,
   "id": "ac53fc9f",
   "metadata": {},
   "outputs": [],
   "source": []
  },
  {
   "cell_type": "code",
   "execution_count": null,
   "id": "58c49a59",
   "metadata": {},
   "outputs": [],
   "source": []
  },
  {
   "cell_type": "code",
   "execution_count": null,
   "id": "78065de3",
   "metadata": {},
   "outputs": [],
   "source": []
  },
  {
   "cell_type": "code",
   "execution_count": null,
   "id": "9e5ff75f",
   "metadata": {},
   "outputs": [],
   "source": []
  },
  {
   "cell_type": "code",
   "execution_count": null,
   "id": "ba680855",
   "metadata": {},
   "outputs": [],
   "source": []
  },
  {
   "cell_type": "code",
   "execution_count": null,
   "id": "0e33ec42",
   "metadata": {},
   "outputs": [],
   "source": []
  },
  {
   "cell_type": "code",
   "execution_count": null,
   "id": "cacb7fd4",
   "metadata": {},
   "outputs": [],
   "source": []
  },
  {
   "cell_type": "code",
   "execution_count": null,
   "id": "27c62993",
   "metadata": {},
   "outputs": [],
   "source": []
  },
  {
   "cell_type": "code",
   "execution_count": null,
   "id": "b5f66146",
   "metadata": {},
   "outputs": [],
   "source": []
  },
  {
   "cell_type": "code",
   "execution_count": null,
   "id": "b284d0f0",
   "metadata": {},
   "outputs": [],
   "source": []
  }
 ],
 "metadata": {
  "kernelspec": {
   "display_name": "Python 3",
   "language": "python",
   "name": "python3"
  },
  "language_info": {
   "codemirror_mode": {
    "name": "ipython",
    "version": 3
   },
   "file_extension": ".py",
   "mimetype": "text/x-python",
   "name": "python",
   "nbconvert_exporter": "python",
   "pygments_lexer": "ipython3",
   "version": "3.9.4"
  }
 },
 "nbformat": 4,
 "nbformat_minor": 5
}

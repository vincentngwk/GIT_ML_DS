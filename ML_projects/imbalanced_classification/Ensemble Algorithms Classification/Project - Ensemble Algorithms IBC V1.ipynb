{
 "cells": [
  {
   "cell_type": "markdown",
   "id": "26feb8ff",
   "metadata": {},
   "source": [
    "# Imbalanced Classification: Ensemble Algorithm for Imbalanced Classification\n",
    "\n",
    "### Main techniques used:\n",
    "* Scaling\n",
    "* Normalization\n",
    "* **Ensemble Algorithms (Bagging, Random Forest, Easy Ensemble)**\n",
    "\n",
    "### Background:\n",
    "* The Oil Spill Classification dataset is an example of an imbalanced classification problem where a class label is required, and both positive and negative classes are equally important. (Detecting and acting on a spill is an expensive response, so false positives are bad. However it is also equally expensive and bad to miss an oil spill event.)\n",
    "* In this project, we will utilize various Ensemble Algorithm Classifiers for Imbalanced Classification tasks."
   ]
  },
  {
   "cell_type": "code",
   "execution_count": 11,
   "id": "eb29284b",
   "metadata": {},
   "outputs": [],
   "source": [
    "# Import necessary libraries\n",
    "\n",
    "from collections import Counter\n",
    "\n",
    "from numpy import mean\n",
    "from numpy import std\n",
    "from pandas import read_csv\n",
    "from matplotlib import pyplot\n",
    "from sklearn.preprocessing import LabelEncoder\n",
    "from sklearn.model_selection import cross_val_score\n",
    "from sklearn.model_selection import RepeatedStratifiedKFold\n",
    "from sklearn.metrics import make_scorer\n",
    "from sklearn.linear_model import LogisticRegression\n",
    "from imblearn.metrics import geometric_mean_score\n",
    "from sklearn.preprocessing import PowerTransformer\n",
    "from sklearn.preprocessing import StandardScaler\n",
    "from sklearn.preprocessing import MinMaxScaler\n",
    "from imblearn.pipeline import Pipeline\n",
    "from imblearn.combine import SMOTEENN\n",
    "from imblearn.under_sampling import EditedNearestNeighbours\n",
    "\n",
    "from imblearn.ensemble import BalancedBaggingClassifier\n",
    "from sklearn.ensemble import RandomForestClassifier\n",
    "from imblearn.ensemble import BalancedRandomForestClassifier\n",
    "from imblearn.ensemble import EasyEnsembleClassifier\n",
    "\n",
    "from sklearn.dummy import DummyClassifier\n",
    "\n",
    "from numpy import sqrt\n",
    "from numpy import argmax\n",
    "from sklearn.model_selection import train_test_split\n",
    "from sklearn.metrics import roc_curve\n",
    "from sklearn.metrics import precision_recall_curve\n",
    "from sklearn.metrics import f1_score\n",
    "from sklearn.metrics import confusion_matrix\n",
    "from sklearn.metrics import classification_report\n",
    "from numpy import arange"
   ]
  },
  {
   "cell_type": "markdown",
   "id": "1506cda0",
   "metadata": {},
   "source": [
    "### Simple EDA of the data"
   ]
  },
  {
   "cell_type": "code",
   "execution_count": 3,
   "id": "d6e05f48",
   "metadata": {},
   "outputs": [
    {
     "name": "stdout",
     "output_type": "stream",
     "text": [
      "(937, 50)\n",
      "Class = 1.0, Count = 41, Percentage = 4.376%\n",
      "Class = 0.0, Count = 896, Percentage = 95.624%\n"
     ]
    },
    {
     "data": {
      "image/png": "[encoded data removed]",
      "text/plain": [
       "<Figure size 432x288 with 56 Axes>"
      ]
     },
     "metadata": {
      "needs_background": "light"
     },
     "output_type": "display_data"
    }
   ],
   "source": [
    "filename = 'oil-spill.csv'\n",
    "dataframe = read_csv(filename, header=None)\n",
    "print(dataframe.shape)\n",
    "\n",
    "target = dataframe.values[:,-1]\n",
    "counter = Counter(target)\n",
    "for k, v in counter.items():\n",
    "    per = v / len(target) * 100\n",
    "    print(f\"Class = {k}, Count = {v}, Percentage = {per:.3f}%\")\n",
    "    \n",
    "ax = dataframe.hist()\n",
    "for axis in ax.flatten():\n",
    "    axis.set_title('')\n",
    "    axis.set_xticklabels([])\n",
    "    axis.set_yticklabels([])\n",
    "pyplot.show()"
   ]
  },
  {
   "cell_type": "markdown",
   "id": "3dbbfed0",
   "metadata": {},
   "source": [
    "**Note:** We can see that the target class distribution is quite imbalanced.\n",
    "\n",
    "**Note:** We can also see that there are many different distributions, and we expect that scaling and using power transforms may be useful, before proceeding to modelling."
   ]
  },
  {
   "cell_type": "code",
   "execution_count": 5,
   "id": "65f98f9d",
   "metadata": {},
   "outputs": [],
   "source": [
    "# Define a few custom functions\n",
    "\n",
    "def load_dataset(full_path):\n",
    "    # load the dataset as a numpy array\n",
    "    data = read_csv(full_path, header=None)\n",
    "    # drop unused columns\n",
    "    data.drop(22, axis=1, inplace=True)\n",
    "    data.drop(0, axis=1, inplace=True)\n",
    "    # retrieve numpy array\n",
    "    data = data.values\n",
    "    # split into input and output elements\n",
    "    X, y = data[:, :-1], data[:, -1]\n",
    "    # label encode the target variable to have the classes 0 and 1\n",
    "    y = LabelEncoder().fit_transform(y)\n",
    "    return X, y\n",
    "\n",
    "# Evaluate a model\n",
    "def evaluate_model(X, y, model):\n",
    "    # define evaluation procedure\n",
    "    cv = RepeatedStratifiedKFold(n_splits=10, n_repeats=3, random_state=88)\n",
    "    # define the model evaluation the metric\n",
    "    metric = 'roc_auc'\n",
    "    # evaluate model\n",
    "    scores = cross_val_score(model, X, y, scoring=metric, cv=cv, n_jobs=-1)\n",
    "    return scores"
   ]
  },
  {
   "cell_type": "code",
   "execution_count": 7,
   "id": "1a777a7f",
   "metadata": {},
   "outputs": [
    {
     "name": "stdout",
     "output_type": "stream",
     "text": [
      "(937, 47) (937,) Counter({0: 896, 1: 41})\n",
      "Mean ROC AUC Scores: 0.500 (0.000%)\n"
     ]
    }
   ],
   "source": [
    "# define the location of the dataset\n",
    "full_path = 'oil-spill.csv'\n",
    "\n",
    "# load the dataset\n",
    "X, y = load_dataset(full_path)\n",
    "\n",
    "# summarize the loaded dataset\n",
    "print(X.shape, y.shape, Counter(y))\n",
    "\n",
    "# define the reference model\n",
    "model = DummyClassifier(strategy='uniform')\n",
    "\n",
    "# evaluate the model\n",
    "scores = evaluate_model(X, y, model)\n",
    "\n",
    "# summarize performance\n",
    "# print('Mean G-Mean: %.3f (%.3f)' % (mean(scores), std(scores)))\n",
    "print(f\"Mean ROC AUC Scores: {mean(scores):.3f} ({std(scores):.3f}%)\")"
   ]
  },
  {
   "cell_type": "code",
   "execution_count": 18,
   "id": "1b665a6f",
   "metadata": {},
   "outputs": [],
   "source": [
    "\n",
    "def get_models():\n",
    "    models, names = list(), list()\n",
    "    # Default Logistic Regression\n",
    "    models.append(LogisticRegression(solver='liblinear'))\n",
    "    names.append('LR')\n",
    "    # Default Random Forest\n",
    "    models.append(RandomForestClassifier(n_estimators=100))\n",
    "    names.append('RF')\n",
    "    # Bagging with Random Undersampling\n",
    "    models.append(BalancedBaggingClassifier())\n",
    "    names.append('Bal-Bagging')\n",
    "    # Random Forest with Class Weighting\n",
    "    models.append(RandomForestClassifier(n_estimators=100, class_weight='balanced'))    \n",
    "    names.append('Bal-RF')\n",
    "    # Random Forest with Bootstrap Class Weighting\n",
    "    models.append(RandomForestClassifier(n_estimators=100, class_weight='balanced_subsample'))    \n",
    "    names.append('Bal-BSRF')\n",
    "    # Random Forest with Random Undersampling\n",
    "    models.append(BalancedRandomForestClassifier(n_estimators=100))\n",
    "    names.append('Bal-USRF')\n",
    "    # Easy Ensemble\n",
    "    models.append(EasyEnsembleClassifier(n_estimators=100))\n",
    "    names.append('EE')\n",
    "    return models, names"
   ]
  },
  {
   "cell_type": "code",
   "execution_count": 19,
   "id": "1660979c",
   "metadata": {},
   "outputs": [],
   "source": [
    "full_path = 'oil-spill.csv'\n",
    "X, y = load_dataset(full_path)\n",
    "\n",
    "# Define models here\n",
    "models, names = get_models()"
   ]
  },
  {
   "cell_type": "code",
   "execution_count": 20,
   "id": "691f59df",
   "metadata": {},
   "outputs": [
    {
     "name": "stdout",
     "output_type": "stream",
     "text": [
      "LR: 0.838 (0.137)\n",
      "RF: 0.913 (0.072)\n",
      "Bal-Bagging: 0.840 (0.127)\n",
      "Bal-RF: 0.923 (0.074)\n",
      "Bal-BSRF: 0.913 (0.086)\n",
      "Bal-USRF: 0.884 (0.087)\n",
      "EE: 0.862 (0.123)\n"
     ]
    }
   ],
   "source": [
    "results = list()\n",
    "\n",
    "# Evaluate each model here\n",
    "for i in range(len(models)):\n",
    "    # Pipeline steps defined\n",
    "    steps = [('p', PowerTransformer()), ('m',models[i])]\n",
    "    # Pipeline itself defined\n",
    "    pipeline = Pipeline(steps=steps)\n",
    "    # Evaluate pipeline and store results\n",
    "    scores = evaluate_model(X, y, pipeline)\n",
    "    results.append(scores)\n",
    "    # Summarize and store results\n",
    "    print(f\"{names[i]}: {mean(scores):.3f} ({std(scores):.3f})\")"
   ]
  },
  {
   "cell_type": "code",
   "execution_count": 22,
   "id": "0692a83b",
   "metadata": {},
   "outputs": [
    {
     "data": {
      "image/png": "[encoded data removed]",
      "text/plain": [
       "<Figure size 432x288 with 1 Axes>"
      ]
     },
     "metadata": {
      "needs_background": "light"
     },
     "output_type": "display_data"
    }
   ],
   "source": [
    "# Visualize above results\n",
    "\n",
    "pyplot.boxplot(results, labels=names, showmeans=True)\n",
    "pyplot.show()"
   ]
  },
  {
   "cell_type": "markdown",
   "id": "d963b31e",
   "metadata": {},
   "source": [
    "**Note:**\n",
    "* Looking at the results, it seems that Random Forests with *class_weights = 'balanced'* has the best roc_auc score."
   ]
  },
  {
   "cell_type": "markdown",
   "id": "db986515",
   "metadata": {},
   "source": [
    "### Further Steps\n",
    "* One can further tune the hyperparameters of the best performing model.\n",
    "* Standard approaches such as GridSearchCV can be applied."
   ]
  },
  {
   "cell_type": "code",
   "execution_count": null,
   "id": "92664b95",
   "metadata": {},
   "outputs": [],
   "source": []
  }
 ],
 "metadata": {
  "kernelspec": {
   "display_name": "Python 3",
   "language": "python",
   "name": "python3"
  },
  "language_info": {
   "codemirror_mode": {
    "name": "ipython",
    "version": 3
   },
   "file_extension": ".py",
   "mimetype": "text/x-python",
   "name": "python",
   "nbconvert_exporter": "python",
   "pygments_lexer": "ipython3",
   "version": "3.9.4"
  }
 },
 "nbformat": 4,
 "nbformat_minor": 5
}

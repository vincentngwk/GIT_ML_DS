{
 "cells": [
  {
   "cell_type": "markdown",
   "id": "1338c079",
   "metadata": {},
   "source": [
    "# Imbalanced Classification: Phoneme Classification\n",
    "\n",
    "### Main techniques used:\n",
    "* Scaling (Numeric Vars)\n",
    "* Oversampling\n",
    "\n",
    "### Background:\n",
    "* The Phoneme dataset is an example of imbalanced classification, on vowel sounds from European languages as either nasal or oral in speech recognition. The majority class is nasal and the minority class are oral vowels.\n",
    "* We will explore the usage of oversampling techniques to help with the imbalanced ratio."
   ]
  },
  {
   "cell_type": "code",
   "execution_count": 1,
   "id": "bd4775e7",
   "metadata": {},
   "outputs": [],
   "source": [
    "# import necessary libraries\n",
    "from collections import Counter\n",
    "\n",
    "from numpy import mean\n",
    "from numpy import std\n",
    "from pandas import read_csv\n",
    "from matplotlib import pyplot\n",
    "from sklearn.preprocessing import MinMaxScaler\n",
    "from sklearn.model_selection import cross_val_score\n",
    "from sklearn.model_selection import RepeatedStratifiedKFold\n",
    "from imblearn.metrics import geometric_mean_score\n",
    "from sklearn.metrics import make_scorer\n",
    "from sklearn.ensemble import ExtraTreesClassifier\n",
    "from sklearn.linear_model import LogisticRegression\n",
    "from sklearn.svm import SVC\n",
    "from sklearn.ensemble import RandomForestClassifier\n",
    "from sklearn.ensemble import BaggingClassifier\n",
    "\n",
    "from imblearn.over_sampling import RandomOverSampler\n",
    "from imblearn.over_sampling import SMOTE\n",
    "from imblearn.over_sampling import BorderlineSMOTE\n",
    "from imblearn.over_sampling import SVMSMOTE\n",
    "from imblearn.over_sampling import ADASYN\n",
    "from imblearn.pipeline import Pipeline\n",
    "\n",
    "from sklearn.dummy import DummyClassifier"
   ]
  },
  {
   "cell_type": "markdown",
   "id": "5440a8a0",
   "metadata": {},
   "source": [
    "### Simple EDA of the data"
   ]
  },
  {
   "cell_type": "code",
   "execution_count": 2,
   "id": "0a5c132b",
   "metadata": {},
   "outputs": [
    {
     "name": "stdout",
     "output_type": "stream",
     "text": [
      "(5404, 6)\n",
      "Class = 0.0, Count = 3818, Percentage = 70.651%\n",
      "Class = 1.0, Count = 1586, Percentage = 29.349%\n"
     ]
    }
   ],
   "source": [
    "filename = 'phoneme.csv'\n",
    "dataframe = read_csv(filename, header=None)\n",
    "\n",
    "print(dataframe.shape)\n",
    "\n",
    "# Summarize the class distributions\n",
    "target = dataframe.values[:, -1]\n",
    "counter = Counter(target)\n",
    "for k, v in counter.items():\n",
    "    per = v / len(target) * 100\n",
    "    print(f\"Class = {k}, Count = {v}, Percentage = {per:.3f}%\")"
   ]
  },
  {
   "cell_type": "code",
   "execution_count": 3,
   "id": "48694e94",
   "metadata": {},
   "outputs": [
    {
     "data": {
      "image/png": "[encoded data removed]",
      "text/plain": [
       "<Figure size 432x288 with 6 Axes>"
      ]
     },
     "metadata": {
      "needs_background": "light"
     },
     "output_type": "display_data"
    }
   ],
   "source": [
    "dataframe.hist()\n",
    "pyplot.show()"
   ]
  },
  {
   "cell_type": "markdown",
   "id": "a5aa9d57",
   "metadata": {},
   "source": [
    "**Note:** We can see that there is a modest class imbalance with around 70.7% for the majority class (nasal), and 30% for the minority class (oral).\n",
    "\n",
    "**Note:** We also see that the numeric variables have differing scales, although they are already somewhat Gaussian in nature. It may be useful to perform some scaling (normalization)."
   ]
  },
  {
   "cell_type": "markdown",
   "id": "231fd212",
   "metadata": {},
   "source": [
    "### Evaluate baseline model for reference"
   ]
  },
  {
   "cell_type": "code",
   "execution_count": 4,
   "id": "e60f8f42",
   "metadata": {},
   "outputs": [],
   "source": [
    "# Define custom functions\n",
    "\n",
    "def load_dataset(full_path):\n",
    "    data = read_csv(full_path, header=None)\n",
    "    data = data.values\n",
    "    X, y = data[:, :-1], data[:, -1]\n",
    "    return X, y\n",
    "\n",
    "def evaluate_model(X, y, model):\n",
    "    # Define evaluation procedure\n",
    "    cv = RepeatedStratifiedKFold(n_splits=10, n_repeats=3, random_state=88)\n",
    "    # Define model evaluation metric\n",
    "    metric = make_scorer(geometric_mean_score)\n",
    "    # Evaluate model\n",
    "    scores = cross_val_score(model, X, y, scoring=metric, cv=cv, n_jobs=-1)\n",
    "    return scores"
   ]
  },
  {
   "cell_type": "code",
   "execution_count": 5,
   "id": "a198353c",
   "metadata": {},
   "outputs": [
    {
     "name": "stdout",
     "output_type": "stream",
     "text": [
      "(5404, 5) (5404,) Counter({0.0: 3818, 1.0: 1586})\n",
      "Mean G-Mean: 0.500 (0.022)\n"
     ]
    }
   ],
   "source": [
    "full_path = 'phoneme.csv'\n",
    "X, y = load_dataset(full_path)\n",
    "\n",
    "# Summarize the loaded dataset\n",
    "print(X.shape, y.shape, Counter(y))\n",
    "\n",
    "# Define the baseline reference model\n",
    "model = DummyClassifier(strategy='uniform')\n",
    "\n",
    "# Evaluate the baseline model\n",
    "scores = evaluate_model(X, y, model)\n",
    "\n",
    "# Summarize performance\n",
    "print(f\"Mean G-Mean: {mean(scores):.3f} ({std(scores):.3f})\")"
   ]
  },
  {
   "cell_type": "markdown",
   "id": "f6eb1dca",
   "metadata": {},
   "source": [
    "**Note:** We can see that the baseline reference model provides a lower limit on model skill with a G-mean score of about 0.5. From here, we can go on to further evaluate classifier models and oversampling techniques that may boost performance."
   ]
  },
  {
   "cell_type": "markdown",
   "id": "e93f6c0e",
   "metadata": {},
   "source": [
    "### Evaluate classifiers and select best before performing oversampling techniques"
   ]
  },
  {
   "cell_type": "code",
   "execution_count": 6,
   "id": "356640d9",
   "metadata": {},
   "outputs": [],
   "source": [
    "# Define classififer models to test\n",
    "def get_models():\n",
    "    models, names = list(), list()\n",
    "    # Logistic Regression\n",
    "    models.append(LogisticRegression(solver='lbfgs'))\n",
    "    names.append('LR')\n",
    "    # Support Vector Machine Classifier\n",
    "    models.append(SVC(gamma='scale'))\n",
    "    names.append('SVM')\n",
    "    # Bagging\n",
    "    models.append(BaggingClassifier(n_estimators=1000))\n",
    "    names.append('BAG')\n",
    "    # Random Forests\n",
    "    models.append(RandomForestClassifier(n_estimators=1000))\n",
    "    names.append('RF')\n",
    "    # Extra Trees Classifier\n",
    "    models.append(ExtraTreesClassifier(n_estimators=1000))\n",
    "    names.append('ET')\n",
    "    return models, names"
   ]
  },
  {
   "cell_type": "code",
   "execution_count": 7,
   "id": "987f2887",
   "metadata": {},
   "outputs": [],
   "source": [
    "full_path = 'phoneme.csv'\n",
    "X, y = load_dataset(full_path)\n",
    "\n",
    "# Define classifier models here\n",
    "models, names = get_models()"
   ]
  },
  {
   "cell_type": "code",
   "execution_count": 8,
   "id": "c0a0b080",
   "metadata": {},
   "outputs": [
    {
     "name": "stdout",
     "output_type": "stream",
     "text": [
      "LR: 0.636 (0.026)\n",
      "SVM: 0.802 (0.019)\n",
      "BAG: 0.885 (0.016)\n",
      "RF: 0.891 (0.014)\n",
      "ET: 0.897 (0.014)\n"
     ]
    }
   ],
   "source": [
    "results = list()\n",
    "for i in range(len(models)):\n",
    "    # Evaluate model and store results\n",
    "    scores = evaluate_model(X, y, models[i])\n",
    "    results.append(scores)\n",
    "    # Sumarize and store scores\n",
    "    print(f\"{names[i]}: {mean(scores):.3f} ({std(scores):.3f})\")"
   ]
  },
  {
   "cell_type": "code",
   "execution_count": 9,
   "id": "c61b8fdb",
   "metadata": {},
   "outputs": [
    {
     "data": {
      "image/png": "[encoded data removed]",
      "text/plain": [
       "<Figure size 432x288 with 1 Axes>"
      ]
     },
     "metadata": {
      "needs_background": "light"
     },
     "output_type": "display_data"
    }
   ],
   "source": [
    "# Visualize above results for classifiers\n",
    "pyplot.boxplot(results, labels=names, showmeans=True)\n",
    "pyplot.show()"
   ]
  },
  {
   "cell_type": "markdown",
   "id": "a10c0eaf",
   "metadata": {},
   "source": [
    "**Note:** Looking at the above results, it seems that when evaluating a group of classifiers (with default hyperparameters), the ExtraTreesClassifier() has the best potential. We can choose to use this when further evaluating multiple oversampling techniques to improve performance."
   ]
  },
  {
   "cell_type": "markdown",
   "id": "b0ea1471",
   "metadata": {},
   "source": [
    "### Evaluate oversampling techniques with best potential classifier\n",
    "\n",
    "**Note:** We will normalize the input variables because most oversampling techniques will make use of a nearest neighbor algorithm internally and it is important that all variables have the same scale when using this technique. We can then go on to perform oversampling and finally train the chosen classifier model."
   ]
  },
  {
   "cell_type": "code",
   "execution_count": 10,
   "id": "351627c3",
   "metadata": {},
   "outputs": [],
   "source": [
    "# Define oversampling techniques to test\n",
    "\n",
    "def get_models():\n",
    "    models, names = list(), list()\n",
    "    # RandomOverSampler\n",
    "    models.append(RandomOverSampler())\n",
    "    names.append('ROS')\n",
    "    # SMOTE\n",
    "    models.append(SMOTE())\n",
    "    names.append('SMOTE')\n",
    "    # BorderlineSMOTE\n",
    "    models.append(BorderlineSMOTE())\n",
    "    names.append('BLSMOTE')\n",
    "    # SVMSMOTE\n",
    "    models.append(SVMSMOTE())\n",
    "    names.append('SVMSMOTE')\n",
    "    # ADASYn\n",
    "    models.append(ADASYN())\n",
    "    names.append('ADASYN')\n",
    "    return models, names"
   ]
  },
  {
   "cell_type": "code",
   "execution_count": 11,
   "id": "7c8e5d8c",
   "metadata": {},
   "outputs": [],
   "source": [
    "full_path = 'phoneme.csv'\n",
    "X, y = load_dataset(full_path)\n",
    "\n",
    "# Define models\n",
    "models, names = get_models()"
   ]
  },
  {
   "cell_type": "code",
   "execution_count": 14,
   "id": "5bde83aa",
   "metadata": {},
   "outputs": [
    {
     "name": "stdout",
     "output_type": "stream",
     "text": [
      "RandomOverSampler(): 0.8946 (0.0144)\n",
      "SMOTE(): 0.9062 (0.0124)\n",
      "BorderlineSMOTE(): 0.9067 (0.0126)\n",
      "SVMSMOTE(): 0.9087 (0.0130)\n",
      "ADASYN(): 0.9104 (0.0113)\n"
     ]
    }
   ],
   "source": [
    "results = list()\n",
    "\n",
    "# Evaluate each model\n",
    "for i in range(len(models)):\n",
    "    # Define the classifier model\n",
    "    model = ExtraTreesClassifier(n_estimators=1000)\n",
    "    # Define the pipeline steps\n",
    "    steps = [('s', MinMaxScaler()),('o', models[i]), ('m', model)]\n",
    "    # Define the pipeline itself\n",
    "    pipeline = Pipeline(steps=steps)\n",
    "    # Evaluate the model and store results\n",
    "    scores = evaluate_model(X, y, pipeline)\n",
    "    results.append(scores)\n",
    "    # Summarize and store results\n",
    "    print(f\"{models[i]}: {mean(scores):.4f} ({std(scores):.4f})\")"
   ]
  },
  {
   "cell_type": "code",
   "execution_count": 15,
   "id": "a21f1f81",
   "metadata": {},
   "outputs": [
    {
     "data": {
      "image/png": "[encoded data removed]",
      "text/plain": [
       "<Figure size 432x288 with 1 Axes>"
      ]
     },
     "metadata": {
      "needs_background": "light"
     },
     "output_type": "display_data"
    }
   ],
   "source": [
    "# Visualize the above results\n",
    "pyplot.boxplot(results, labels=names, showmeans=True)\n",
    "pyplot.show()"
   ]
  },
  {
   "cell_type": "markdown",
   "id": "11fb3206",
   "metadata": {},
   "source": [
    "**Note:** Looking at the results, we can see that oversampling with the ADASYN technique paired with the ExtraTreesClassifier had the best results on this datset, with a G-mean score of 0.9104."
   ]
  },
  {
   "cell_type": "markdown",
   "id": "0755515d",
   "metadata": {},
   "source": [
    "### Further steps:\n",
    "* One can further tune the hyperparameters of the best performing model.\n",
    "* Standard approaches such as GridSearchCV can be applied."
   ]
  },
  {
   "cell_type": "code",
   "execution_count": null,
   "id": "d6aa3f8f",
   "metadata": {},
   "outputs": [],
   "source": []
  }
 ],
 "metadata": {
  "kernelspec": {
   "display_name": "Python 3",
   "language": "python",
   "name": "python3"
  },
  "language_info": {
   "codemirror_mode": {
    "name": "ipython",
    "version": 3
   },
   "file_extension": ".py",
   "mimetype": "text/x-python",
   "name": "python",
   "nbconvert_exporter": "python",
   "pygments_lexer": "ipython3",
   "version": "3.9.4"
  }
 },
 "nbformat": 4,
 "nbformat_minor": 5
}

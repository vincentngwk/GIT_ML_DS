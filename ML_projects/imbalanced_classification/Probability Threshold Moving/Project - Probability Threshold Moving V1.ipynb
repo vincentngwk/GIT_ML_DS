{
 "cells": [
  {
   "cell_type": "markdown",
   "id": "37751c13",
   "metadata": {},
   "source": [
    "# Imbalanced Classification: Probability Threshold Moving Techniques\n",
    "\n",
    "### Main techniques used:\n",
    "* Scaling\n",
    "* Normalization\n",
    "* Data Sampling - SMOTE+ENN\n",
    "* **Probability Threshold Moving** (Optimizing for different metrics depending on business objective)\n",
    "\n",
    "### Background:\n",
    "* The Oil Spill Classification dataset is an example of an imbalanced classification problem where a class label is required, and both positive and negative classes are equally important. (Detecting and acting on a spill is an expensive response, so false positives are bad. However it is also equally expensive and bad to miss an oil spill event.)\n",
    "* In this project, we will utilize various Probability Threshold Moving techniques to further improve classification metrics performance."
   ]
  },
  {
   "cell_type": "code",
   "execution_count": 1,
   "id": "2b8af003",
   "metadata": {},
   "outputs": [],
   "source": [
    "# Import necessary libraries\n",
    "\n",
    "from matplotlib import pyplot\n",
    "from collections import Counter\n",
    "\n",
    "from numpy import mean\n",
    "from numpy import std\n",
    "from pandas import read_csv\n",
    "from matplotlib import pyplot\n",
    "from sklearn.preprocessing import LabelEncoder\n",
    "from sklearn.model_selection import cross_val_score\n",
    "from sklearn.model_selection import RepeatedStratifiedKFold\n",
    "from sklearn.metrics import make_scorer\n",
    "from sklearn.linear_model import LogisticRegression\n",
    "from imblearn.metrics import geometric_mean_score\n",
    "from sklearn.preprocessing import PowerTransformer\n",
    "from sklearn.preprocessing import StandardScaler\n",
    "from sklearn.preprocessing import MinMaxScaler\n",
    "from imblearn.pipeline import Pipeline\n",
    "from imblearn.combine import SMOTEENN\n",
    "from imblearn.under_sampling import EditedNearestNeighbours\n",
    "\n",
    "from sklearn.dummy import DummyClassifier\n",
    "\n",
    "from numpy import sqrt\n",
    "from numpy import argmax\n",
    "from sklearn.model_selection import train_test_split\n",
    "from sklearn.metrics import roc_curve\n",
    "from sklearn.metrics import precision_recall_curve\n",
    "from sklearn.metrics import f1_score\n",
    "from sklearn.metrics import confusion_matrix\n",
    "from sklearn.metrics import classification_report\n",
    "from numpy import arange"
   ]
  },
  {
   "cell_type": "markdown",
   "id": "313dba1c",
   "metadata": {},
   "source": [
    "### Simple EDA of the data"
   ]
  },
  {
   "cell_type": "code",
   "execution_count": 2,
   "id": "7600ed84",
   "metadata": {},
   "outputs": [
    {
     "name": "stdout",
     "output_type": "stream",
     "text": [
      "(937, 50)\n",
      "Class = 1.0, Count = 41, Percentage = 4.376%\n",
      "Class = 0.0, Count = 896, Percentage = 95.624%\n"
     ]
    },
    {
     "data": {
      "image/png": "[encoded data removed]",
      "text/plain": [
       "<Figure size 432x288 with 56 Axes>"
      ]
     },
     "metadata": {
      "needs_background": "light"
     },
     "output_type": "display_data"
    }
   ],
   "source": [
    "filename = 'oil-spill.csv'\n",
    "dataframe = read_csv(filename, header=None)\n",
    "print(dataframe.shape)\n",
    "\n",
    "target = dataframe.values[:,-1]\n",
    "counter = Counter(target)\n",
    "for k, v in counter.items():\n",
    "    per = v / len(target) * 100\n",
    "    print(f\"Class = {k}, Count = {v}, Percentage = {per:.3f}%\")\n",
    "    \n",
    "ax = dataframe.hist()\n",
    "for axis in ax.flatten():\n",
    "    axis.set_title('')\n",
    "    axis.set_xticklabels([])\n",
    "    axis.set_yticklabels([])\n",
    "pyplot.show()"
   ]
  },
  {
   "cell_type": "markdown",
   "id": "82457d60",
   "metadata": {},
   "source": [
    "**Note:** We can see that the target class distribution is quite imbalanced.\n",
    "\n",
    "**Note:** We can also see that there are many different distributions, and we expect that scaling and using power transforms may be useful, before proceeding to modelling."
   ]
  },
  {
   "cell_type": "markdown",
   "id": "cf468411",
   "metadata": {},
   "source": [
    "### Evaluate a Baseline Model for reference"
   ]
  },
  {
   "cell_type": "code",
   "execution_count": 3,
   "id": "49c1b319",
   "metadata": {},
   "outputs": [],
   "source": [
    "# Define a few custom functions\n",
    "\n",
    "def load_dataset(full_path):\n",
    "    # load the dataset as a numpy array\n",
    "    data = read_csv(full_path, header=None)\n",
    "    # drop unused columns\n",
    "    data.drop(22, axis=1, inplace=True)\n",
    "    data.drop(0, axis=1, inplace=True)\n",
    "    # retrieve numpy array\n",
    "    data = data.values\n",
    "    # split into input and output elements\n",
    "    X, y = data[:, :-1], data[:, -1]\n",
    "    # label encode the target variable to have the classes 0 and 1\n",
    "    y = LabelEncoder().fit_transform(y)\n",
    "    return X, y\n",
    "\n",
    "# Evaluate a model\n",
    "def evaluate_model(X, y, model):\n",
    "    # define evaluation procedure\n",
    "    cv = RepeatedStratifiedKFold(n_splits=10, n_repeats=3, random_state=1)\n",
    "    # define the model evaluation the metric\n",
    "    metric = make_scorer(geometric_mean_score)\n",
    "    # evaluate model\n",
    "    scores = cross_val_score(model, X, y, scoring=metric, cv=cv, n_jobs=-1)\n",
    "    return scores"
   ]
  },
  {
   "cell_type": "code",
   "execution_count": 4,
   "id": "d630a2bd",
   "metadata": {},
   "outputs": [
    {
     "name": "stdout",
     "output_type": "stream",
     "text": [
      "(937, 47) (937,) Counter({0: 896, 1: 41})\n",
      "Mean G-Mean: 0.516 (0.102%)\n"
     ]
    }
   ],
   "source": [
    "# define the location of the dataset\n",
    "full_path = 'oil-spill.csv'\n",
    "\n",
    "# load the dataset\n",
    "X, y = load_dataset(full_path)\n",
    "\n",
    "# summarize the loaded dataset\n",
    "print(X.shape, y.shape, Counter(y))\n",
    "\n",
    "# define the reference model\n",
    "model = DummyClassifier(strategy='uniform')\n",
    "\n",
    "# evaluate the model\n",
    "scores = evaluate_model(X, y, model)\n",
    "\n",
    "# summarize performance\n",
    "# print('Mean G-Mean: %.3f (%.3f)' % (mean(scores), std(scores)))\n",
    "print(f\"Mean G-Mean: {mean(scores):.3f} ({std(scores):.3f}%)\")"
   ]
  },
  {
   "cell_type": "markdown",
   "id": "bbc6c3f6",
   "metadata": {},
   "source": [
    "**Note:** Remember that Sensitivity is a measure of accuracy for the positive class, and Specificity is a measure of accuracy for the negative class. \n",
    "\n",
    "**Note:** G-mean seeks a balance of the sensitivity score + the specificity score. Poor performance for either will be penalized.\n",
    "\n",
    "**Note:** We can see that the baseline algorithm achieves a G-mean of about 0.50. This score provides us with a lower limit on model skill. Any model that achieves an average G-mean of above 0.50 has skill, whereas models that achieve a score below this value do not have skill on this dataset."
   ]
  },
  {
   "cell_type": "markdown",
   "id": "4efab536",
   "metadata": {},
   "source": [
    "### Modelling\n",
    "\n",
    "**Note:** In another project utilizing the same oil-spill dataset, we have shown that it is possible to attain good results by performing:\n",
    "* Normalization, Power Transforms, SMOTEENN (data sampling technique) prior to training a classifier.\n",
    "* After this, we will go on to evaluate various probability threshold moving techniques."
   ]
  },
  {
   "cell_type": "code",
   "execution_count": 5,
   "id": "77fad50e",
   "metadata": {},
   "outputs": [],
   "source": [
    "# Prepare the dataset here for modelling\n",
    "full_path = 'oil-spill.csv'\n",
    "X, y = load_dataset(full_path)\n",
    "\n",
    "trainX, testX, trainy, testy = train_test_split(X, y, test_size = 0.3, random_state=88,\n",
    "                                               stratify=y)\n"
   ]
  },
  {
   "cell_type": "code",
   "execution_count": 6,
   "id": "5b274040",
   "metadata": {},
   "outputs": [
    {
     "data": {
      "text/plain": [
       "Pipeline(steps=[('t1', MinMaxScaler()), ('t2', PowerTransformer()),\n",
       "                ('e',\n",
       "                 SMOTEENN(enn=EditedNearestNeighbours(sampling_strategy='majority'))),\n",
       "                ('m', LogisticRegression(solver='liblinear'))])"
      ]
     },
     "execution_count": 6,
     "metadata": {},
     "output_type": "execute_result"
    }
   ],
   "source": [
    "# Define the model here\n",
    "sampling = SMOTEENN(enn = EditedNearestNeighbours(sampling_strategy='majority'))\n",
    "model = LogisticRegression(solver='liblinear')\n",
    "steps = [('t1', MinMaxScaler()), ('t2', PowerTransformer()), ('e', sampling), ('m', model)]\n",
    "pipeline = Pipeline(steps=steps)\n",
    "pipeline.fit(trainX, trainy)"
   ]
  },
  {
   "cell_type": "code",
   "execution_count": 7,
   "id": "51fc304f",
   "metadata": {},
   "outputs": [],
   "source": [
    "# Predicted probabilities here\n",
    "yhat = pipeline.predict_proba(testX)\n",
    "\n",
    "# Predicted classes here (based on default threshold of 0.5 for classification)\n",
    "y_pred_class = pipeline.predict(testX)\n",
    "\n",
    "# Keep probabilities for the positive outcome only\n",
    "yhat = yhat[:, 1]"
   ]
  },
  {
   "cell_type": "code",
   "execution_count": 8,
   "id": "64c384b9",
   "metadata": {},
   "outputs": [
    {
     "name": "stdout",
     "output_type": "stream",
     "text": [
      "Predicted Probabilities:\n",
      "[0.00033919 0.07791999 0.00380158 0.00025784 0.00174428]\n",
      "Predicted Class Labels:\n",
      "[0 0 0 0 0]\n"
     ]
    }
   ],
   "source": [
    "print(\"Predicted Probabilities:\")\n",
    "print(yhat[:5])\n",
    "print(\"Predicted Class Labels:\")\n",
    "print(y_pred_class[:5])"
   ]
  },
  {
   "cell_type": "code",
   "execution_count": 9,
   "id": "a91ed0e3",
   "metadata": {},
   "outputs": [],
   "source": [
    "# We also define a custom function to apply a single selected threshold to interpret the predicted probabilities\n",
    "# Threshold is applied to positive probabilities to create labels\n",
    "def to_labels(pos_probs, threshold):\n",
    "    return (pos_probs >= threshold).astype('int')"
   ]
  },
  {
   "cell_type": "markdown",
   "id": "e2488f8b",
   "metadata": {},
   "source": [
    "**Note:** A quick refresher on the layout of the confusion matrix. "
   ]
  },
  {
   "attachments": {
    "image.png": {
     "image/png": "[encoded data removed]"
    }
   },
   "cell_type": "markdown",
   "id": "f88e92f7",
   "metadata": {},
   "source": [
    "![image.png](attachment:image.png)"
   ]
  },
  {
   "cell_type": "markdown",
   "id": "c4cd0956",
   "metadata": {},
   "source": [
    "#### Optimal Threshold:\n",
    "* **ROC Curves**\n",
    "* Optimal balance between false positives and true positives rates\n",
    "* **Largest G-mean value**"
   ]
  },
  {
   "cell_type": "code",
   "execution_count": 10,
   "id": "72521add",
   "metadata": {},
   "outputs": [
    {
     "name": "stdout",
     "output_type": "stream",
     "text": [
      "Default Threshold = 0.5, G-mean Score: 0.7778 \n",
      "\n",
      "Confusion Matrix based on Default Threshold: \n",
      " [[245  25]\n",
      " [  4   8]] \n",
      "\n",
      "Classification Report based on Default Threshold: \n",
      "               precision    recall  f1-score   support\n",
      "\n",
      "           0       0.98      0.91      0.94       270\n",
      "           1       0.24      0.67      0.36        12\n",
      "\n",
      "    accuracy                           0.90       282\n",
      "   macro avg       0.61      0.79      0.65       282\n",
      "weighted avg       0.95      0.90      0.92       282\n",
      "\n"
     ]
    }
   ],
   "source": [
    "print(f\"Default Threshold = 0.5, G-mean Score: {geometric_mean_score(testy, y_pred_class):.4f} \\n\")\n",
    "\n",
    "print(f\"Confusion Matrix based on Default Threshold: \\n {confusion_matrix(testy, y_pred_class)} \\n\")\n",
    "\n",
    "print(f\"Classification Report based on Default Threshold: \\n {classification_report(testy, y_pred_class)}\")"
   ]
  },
  {
   "cell_type": "code",
   "execution_count": 11,
   "id": "9995adf0",
   "metadata": {},
   "outputs": [
    {
     "name": "stdout",
     "output_type": "stream",
     "text": [
      "Best Threshold = 0.28158514560300424, G-mean Score = 0.9309 \n",
      "\n",
      "Confusion Matrix based on selected Threshold: \n",
      " [[227  43]\n",
      " [  0  12]] \n",
      "\n",
      "Classification Report based on selected Threshold: \n",
      "               precision    recall  f1-score   support\n",
      "\n",
      "           0       1.00      0.84      0.91       270\n",
      "           1       0.22      1.00      0.36        12\n",
      "\n",
      "    accuracy                           0.85       282\n",
      "   macro avg       0.61      0.92      0.64       282\n",
      "weighted avg       0.97      0.85      0.89       282\n",
      "\n"
     ]
    }
   ],
   "source": [
    "# Calculate ROC Curves\n",
    "fpr, tpr, thresholds = roc_curve(testy, yhat)\n",
    "\n",
    "gmeans = sqrt(tpr * (1-fpr))\n",
    "\n",
    "# Get best threshold\n",
    "J = tpr - fpr\n",
    "ix = argmax(J)\n",
    "best_threshold = thresholds[ix]\n",
    "print(f\"Best Threshold = {best_threshold}, G-mean Score = {gmeans[ix]:.4f} \\n\")\n",
    "\n",
    "print(f\"Confusion Matrix based on selected Threshold: \\n {confusion_matrix(testy, to_labels(yhat, 0.21772909351824177))} \\n\")\n",
    "\n",
    "print(f\"Classification Report based on selected Threshold: \\n {classification_report(testy, to_labels(yhat, 0.21772909351824177))}\")"
   ]
  },
  {
   "cell_type": "code",
   "execution_count": 12,
   "id": "1e5e6354",
   "metadata": {},
   "outputs": [
    {
     "data": {
      "image/png": "[encoded data removed]",
      "text/plain": [
       "<Figure size 432x288 with 1 Axes>"
      ]
     },
     "metadata": {
      "needs_background": "light"
     },
     "output_type": "display_data"
    }
   ],
   "source": [
    "# Visualize the above results\n",
    "\n",
    "# plot the roc curve for the model\n",
    "pyplot.plot([0,1], [0,1], linestyle='--', label='No Skill')\n",
    "pyplot.plot(fpr, tpr, marker='.', label='Logistic')\n",
    "pyplot.scatter(fpr[ix], tpr[ix], marker='o', color='black', label='Best')\n",
    "# axis labels\n",
    "pyplot.xlabel('False Positive Rate')\n",
    "pyplot.ylabel('True Positive Rate')\n",
    "pyplot.legend()\n",
    "# show the plot\n",
    "pyplot.show()"
   ]
  },
  {
   "cell_type": "markdown",
   "id": "0f280a40",
   "metadata": {},
   "source": [
    "**Note:**\n",
    "* Using the default threshold of 0.5, the G-mean score was 0.7778.\n",
    "* Using the Best Threshold found of 0.282, the G-mean score was 0.9309.\n",
    "* In this case, when using G-mean/ G-score, the best threshold that optimizes for the best G-mean score results in a lower threshold for classifying a prediction as the positive class.\n",
    "* As a result, there are more False Positives (25 FP in default 0.5 threshold vs 43 FP in optimized 0.282 threshold).\n",
    "* The benefit is that all 5 previously misclassified positive class records (FN) were now detected (TP increased from 8 to 12).\n",
    "* The business objective is important. Here, if operational capacity is not constrained, and it is a greater priority to detect the positive class records, then optimizing for G-mean may be good."
   ]
  },
  {
   "cell_type": "markdown",
   "id": "fbc95c1e",
   "metadata": {},
   "source": [
    "#### Optimal Threshold:\n",
    "* **Precision-Recall Curves**\n",
    "* Focuses on the performance of a classifier on the positive (minority class) only\n",
    "* **Precision** = TP / (TP + FP)\n",
    "* **Recall (aka Sensitivity)** = TP / (TP + FN)\n",
    "* If interested in the optimal balance of precision and recall (i.e. Want to detect positives, but also constrained by volume of false positives.)\n",
    "* **Largest F-measure value**"
   ]
  },
  {
   "cell_type": "code",
   "execution_count": 13,
   "id": "e4e75a0c",
   "metadata": {},
   "outputs": [
    {
     "name": "stdout",
     "output_type": "stream",
     "text": [
      "Default Threshold = 0.5, F1-Score/ F-measure: 0.3556 \n",
      "\n",
      "Confusion Matrix based on Default Threshold: \n",
      " [[245  25]\n",
      " [  4   8]] \n",
      "\n",
      "Classification Report based on Default Threshold: \n",
      "               precision    recall  f1-score   support\n",
      "\n",
      "           0       0.98      0.91      0.94       270\n",
      "           1       0.24      0.67      0.36        12\n",
      "\n",
      "    accuracy                           0.90       282\n",
      "   macro avg       0.61      0.79      0.65       282\n",
      "weighted avg       0.95      0.90      0.92       282\n",
      "\n"
     ]
    }
   ],
   "source": [
    "print(f\"Default Threshold = 0.5, F1-Score/ F-measure: {f1_score(testy, y_pred_class):.4f} \\n\")\n",
    "\n",
    "print(f\"Confusion Matrix based on Default Threshold: \\n {confusion_matrix(testy, y_pred_class)} \\n\")\n",
    "\n",
    "print(f\"Classification Report based on Default Threshold: \\n {classification_report(testy, y_pred_class)}\")"
   ]
  },
  {
   "cell_type": "code",
   "execution_count": 14,
   "id": "d5a910e4",
   "metadata": {},
   "outputs": [
    {
     "name": "stdout",
     "output_type": "stream",
     "text": [
      "Best Threshold=0.982975, F-measure=0.476\n",
      "Confusion Matrix based on selected Threshold: \n",
      " [[266   4]\n",
      " [  7   5]] \n",
      "\n",
      "Classification Report based on selected Threshold: \n",
      "               precision    recall  f1-score   support\n",
      "\n",
      "           0       0.97      0.99      0.98       270\n",
      "           1       0.56      0.42      0.48        12\n",
      "\n",
      "    accuracy                           0.96       282\n",
      "   macro avg       0.76      0.70      0.73       282\n",
      "weighted avg       0.96      0.96      0.96       282\n",
      "\n"
     ]
    }
   ],
   "source": [
    "# calculate roc curves\n",
    "precision, recall, thresholds = precision_recall_curve(testy, yhat)\n",
    "# convert to f-measure\n",
    "fscore = (2 * precision * recall) / (precision + recall)\n",
    "# locate the index of the largest f-measure\n",
    "ix = argmax(fscore)\n",
    "print('Best Threshold=%f, F-measure=%.3f' % (thresholds[ix], fscore[ix]))\n",
    "\n",
    "print(f\"Confusion Matrix based on selected Threshold: \\n {confusion_matrix(testy, to_labels(yhat, 0.977484))} \\n\")\n",
    "\n",
    "print(f\"Classification Report based on selected Threshold: \\n {classification_report(testy, to_labels(yhat, 0.977484))}\")"
   ]
  },
  {
   "cell_type": "code",
   "execution_count": 15,
   "id": "9d1b534d",
   "metadata": {},
   "outputs": [
    {
     "data": {
      "image/png": "[encoded data removed]",
      "text/plain": [
       "<Figure size 432x288 with 1 Axes>"
      ]
     },
     "metadata": {
      "needs_background": "light"
     },
     "output_type": "display_data"
    }
   ],
   "source": [
    "# plot the roc curve for the model\n",
    "no_skill = len(testy[testy==1]) / len(testy)\n",
    "pyplot.plot([0,1], [no_skill,no_skill], linestyle='--', label='No Skill')\n",
    "pyplot.plot(recall, precision, marker='.', label='Logistic')\n",
    "pyplot.scatter(recall[ix], precision[ix], marker='o', color='black', label='Best')\n",
    "# axis labels\n",
    "pyplot.xlabel('Recall')\n",
    "pyplot.ylabel('Precision')\n",
    "pyplot.legend()\n",
    "# show the plot\n",
    "pyplot.show()\n"
   ]
  },
  {
   "cell_type": "markdown",
   "id": "790eb9e7",
   "metadata": {},
   "source": [
    "**Note:**\n",
    "* In this case, when using F-measure/ F1-score, the best threshold that optimizes for the best f1-score results in a higher threshold for classifying a prediction as the positive class.\n",
    "* As a result, there are much lower False Positives (25 FP in default 0.5 threshold vs 4 FP in optimized 0.983 threshold).\n",
    "* The tradeoff is that 3 positive class records were missed (FN increased from 4 to 7).\n",
    "* Again, it boils down to the business objective. Here, if operational capacity is constrained, and there is lesser bandwidth/ resources to investigate false positives, then optimizing for F-measure may be good."
   ]
  },
  {
   "cell_type": "markdown",
   "id": "5eeac860",
   "metadata": {},
   "source": [
    "#### Optimal Threshold:\n",
    "* Finding the best threshold directly, based on F1 score.\n",
    "* We will loop through small increments of the threshold to find the best threshold value."
   ]
  },
  {
   "cell_type": "code",
   "execution_count": 16,
   "id": "d191e7a0",
   "metadata": {},
   "outputs": [],
   "source": [
    "# We define a range of threshold values to test\n",
    "thresholds = arange(0, 1, 0.001)"
   ]
  },
  {
   "cell_type": "code",
   "execution_count": 17,
   "id": "2d1c9539",
   "metadata": {},
   "outputs": [
    {
     "name": "stdout",
     "output_type": "stream",
     "text": [
      "1st 5 thresholds: [0.08163265, 0.11009174, 0.12698413, 0.13483146, 0.14545455]\n",
      "Last 5 thresholds: [0.42105263, 0.42105263, 0.42105263, 0.44444444, 0.28571429]\n",
      "Best Threshold = 0.9730, F-measure = 0.4762\n"
     ]
    }
   ],
   "source": [
    "# Evaluate each threshold using a list comprehension\n",
    "scores = [f1_score(testy, to_labels(yhat, t)) for t in thresholds]\n",
    "\n",
    "print(f\"1st 5 thresholds: {list(round(i, 8) for i in scores[:5])}\")\n",
    "print(f\"Last 5 thresholds: {list(round(i, 8) for i in scores[-5:])}\")\n",
    "\n",
    "# Get best threshold\n",
    "ix = argmax(scores)\n",
    "\n",
    "print(f\"Best Threshold = {thresholds[ix]:.4f}, F-measure = {scores[ix]:.4f}\")"
   ]
  },
  {
   "cell_type": "code",
   "execution_count": null,
   "id": "cd662e63",
   "metadata": {},
   "outputs": [],
   "source": []
  }
 ],
 "metadata": {
  "kernelspec": {
   "display_name": "Python 3",
   "language": "python",
   "name": "python3"
  },
  "language_info": {
   "codemirror_mode": {
    "name": "ipython",
    "version": 3
   },
   "file_extension": ".py",
   "mimetype": "text/x-python",
   "name": "python",
   "nbconvert_exporter": "python",
   "pygments_lexer": "ipython3",
   "version": "3.9.4"
  }
 },
 "nbformat": 4,
 "nbformat_minor": 5
}

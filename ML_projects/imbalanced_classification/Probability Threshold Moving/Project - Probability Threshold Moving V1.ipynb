{
 "cells": [
  {
   "cell_type": "markdown",
   "id": "69e42149",
   "metadata": {},
   "source": [
    "# Imbalanced Classification: Oil Spill Classification\n",
    "\n",
    "### Main techniques used:\n",
    "* Scaling\n",
    "* Normalization\n",
    "* Data Sampling - SMOTE+ENN\n",
    "* Probability Threshold Moving\n",
    "\n",
    "### Background:\n",
    "* The Oil Spill Classification dataset is an example of an imbalanced classification problem where a class label is required, and both positive and negative classes are equally important. (Detecting and acting on a spill is an expensive response, so false positives are bad. However it is also equally expensive and bad to miss an oil spill event.)\n",
    "* The G-mean provides a way to evaluate imbalanced classification model in such a situation where Sensitivity and Specificity are both important metrics.\n",
    "* In this project, we will utilize various Probability Threshold Moving techniques to further improve classification metrics performance."
   ]
  },
  {
   "cell_type": "code",
   "execution_count": 1,
   "id": "115b2461",
   "metadata": {},
   "outputs": [],
   "source": [
    "# Import necessary libraries\n",
    "\n",
    "from matplotlib import pyplot\n",
    "from collections import Counter\n",
    "\n",
    "from numpy import mean\n",
    "from numpy import std\n",
    "from pandas import read_csv\n",
    "from matplotlib import pyplot\n",
    "from sklearn.preprocessing import LabelEncoder\n",
    "from sklearn.model_selection import cross_val_score\n",
    "from sklearn.model_selection import RepeatedStratifiedKFold\n",
    "from sklearn.metrics import make_scorer\n",
    "from sklearn.linear_model import LogisticRegression\n",
    "from imblearn.metrics import geometric_mean_score\n",
    "from sklearn.preprocessing import PowerTransformer\n",
    "from sklearn.preprocessing import StandardScaler\n",
    "from sklearn.preprocessing import MinMaxScaler\n",
    "from imblearn.pipeline import Pipeline\n",
    "from imblearn.combine import SMOTEENN\n",
    "from imblearn.under_sampling import EditedNearestNeighbours\n",
    "\n",
    "from sklearn.dummy import DummyClassifier\n",
    "\n",
    "from numpy import sqrt\n",
    "from numpy import argmax\n",
    "from sklearn.model_selection import train_test_split\n",
    "from sklearn.metrics import roc_curve\n",
    "from sklearn.metrics import precision_recall_curve\n",
    "from sklearn.metrics import f1_score"
   ]
  },
  {
   "cell_type": "markdown",
   "id": "56c830de",
   "metadata": {},
   "source": [
    "### Simple EDA of the data"
   ]
  },
  {
   "cell_type": "code",
   "execution_count": 2,
   "id": "b8431e8f",
   "metadata": {},
   "outputs": [
    {
     "name": "stdout",
     "output_type": "stream",
     "text": [
      "(937, 50)\n",
      "Class = 1.0, Count = 41, Percentage = 4.376%\n",
      "Class = 0.0, Count = 896, Percentage = 95.624%\n"
     ]
    },
    {
     "data": {
      "image/png": "[encoded data removed]",
      "text/plain": [
       "<Figure size 432x288 with 56 Axes>"
      ]
     },
     "metadata": {
      "needs_background": "light"
     },
     "output_type": "display_data"
    }
   ],
   "source": [
    "filename = 'oil-spill.csv'\n",
    "dataframe = read_csv(filename, header=None)\n",
    "print(dataframe.shape)\n",
    "\n",
    "target = dataframe.values[:,-1]\n",
    "counter = Counter(target)\n",
    "for k, v in counter.items():\n",
    "    per = v / len(target) * 100\n",
    "    print(f\"Class = {k}, Count = {v}, Percentage = {per:.3f}%\")\n",
    "    \n",
    "ax = dataframe.hist()\n",
    "for axis in ax.flatten():\n",
    "    axis.set_title('')\n",
    "    axis.set_xticklabels([])\n",
    "    axis.set_yticklabels([])\n",
    "pyplot.show()"
   ]
  },
  {
   "cell_type": "markdown",
   "id": "264a12d8",
   "metadata": {},
   "source": [
    "**Note:** We can see that the target class distribution is quite imbalanced.\n",
    "\n",
    "**Note:** We can also see that there are many different distributions, and we expect that scaling and using power transforms may be useful, before proceeding to modelling."
   ]
  },
  {
   "cell_type": "markdown",
   "id": "cf468411",
   "metadata": {},
   "source": [
    "### Evaluate a Baseline Model for reference"
   ]
  },
  {
   "cell_type": "code",
   "execution_count": 3,
   "id": "49c1b319",
   "metadata": {},
   "outputs": [],
   "source": [
    "# Define a few custom functions\n",
    "\n",
    "def load_dataset(full_path):\n",
    "    # load the dataset as a numpy array\n",
    "    data = read_csv(full_path, header=None)\n",
    "    # drop unused columns\n",
    "    data.drop(22, axis=1, inplace=True)\n",
    "    data.drop(0, axis=1, inplace=True)\n",
    "    # retrieve numpy array\n",
    "    data = data.values\n",
    "    # split into input and output elements\n",
    "    X, y = data[:, :-1], data[:, -1]\n",
    "    # label encode the target variable to have the classes 0 and 1\n",
    "    y = LabelEncoder().fit_transform(y)\n",
    "    return X, y\n",
    "\n",
    "# Evaluate a model\n",
    "def evaluate_model(X, y, model):\n",
    "    # define evaluation procedure\n",
    "    cv = RepeatedStratifiedKFold(n_splits=10, n_repeats=3, random_state=1)\n",
    "    # define the model evaluation the metric\n",
    "    metric = make_scorer(geometric_mean_score)\n",
    "    # evaluate model\n",
    "    scores = cross_val_score(model, X, y, scoring=metric, cv=cv, n_jobs=-1)\n",
    "    return scores"
   ]
  },
  {
   "cell_type": "code",
   "execution_count": 4,
   "id": "d630a2bd",
   "metadata": {},
   "outputs": [
    {
     "name": "stdout",
     "output_type": "stream",
     "text": [
      "(937, 47) (937,) Counter({0: 896, 1: 41})\n",
      "Mean G-Mean: 0.497 (0.140%)\n"
     ]
    }
   ],
   "source": [
    "# define the location of the dataset\n",
    "full_path = 'oil-spill.csv'\n",
    "\n",
    "# load the dataset\n",
    "X, y = load_dataset(full_path)\n",
    "\n",
    "# summarize the loaded dataset\n",
    "print(X.shape, y.shape, Counter(y))\n",
    "\n",
    "# define the reference model\n",
    "model = DummyClassifier(strategy='uniform')\n",
    "\n",
    "# evaluate the model\n",
    "scores = evaluate_model(X, y, model)\n",
    "\n",
    "# summarize performance\n",
    "# print('Mean G-Mean: %.3f (%.3f)' % (mean(scores), std(scores)))\n",
    "print(f\"Mean G-Mean: {mean(scores):.3f} ({std(scores):.3f}%)\")"
   ]
  },
  {
   "cell_type": "markdown",
   "id": "bbc6c3f6",
   "metadata": {},
   "source": [
    "**Note:** Remember that Sensitivity is a measure of accuracy for the positive class, and Specificity is a measure of accuracy for the negative class. \n",
    "\n",
    "**Note:** G-mean seeks a balance of the sensitivity score + the specificity score. Poor performance for either will be penalized.\n",
    "\n",
    "**Note:** We can see that the baseline algorithm achieves a G-mean of about 0.50. This score provides us with a lower limit on model skill. Any model that achieves an average G-mean of above 0.50 has skill, whereas models that achieve a score below this value do not have skill on this dataset."
   ]
  },
  {
   "cell_type": "markdown",
   "id": "043725a6",
   "metadata": {},
   "source": [
    "### Modelling\n",
    "\n",
    "**Note:** In another project utilizing the same oil-spill dataset, we have shown that it is possible to attain good results by performing:\n",
    "* Normalization, Power Transforms, SMOTEENN (data sampling technique) prior to training a classifier.\n",
    "* After this, we will go on to evaluate various probability threshold moving techniques."
   ]
  },
  {
   "cell_type": "code",
   "execution_count": 12,
   "id": "22256499",
   "metadata": {},
   "outputs": [],
   "source": [
    "# Prepare the dataset here for modelling\n",
    "full_path = 'oil-spill.csv'\n",
    "X, y = load_dataset(full_path)\n",
    "\n",
    "trainX, testX, trainy, testy = train_test_split(X, y, test_size = 0.3, random_state=88,\n",
    "                                               stratify=y)\n"
   ]
  },
  {
   "cell_type": "code",
   "execution_count": 13,
   "id": "afb00e40",
   "metadata": {},
   "outputs": [
    {
     "data": {
      "text/plain": [
       "Pipeline(steps=[('t1', MinMaxScaler()), ('t2', PowerTransformer()),\n",
       "                ('e',\n",
       "                 SMOTEENN(enn=EditedNearestNeighbours(sampling_strategy='majority'))),\n",
       "                ('m', LogisticRegression(solver='liblinear'))])"
      ]
     },
     "execution_count": 13,
     "metadata": {},
     "output_type": "execute_result"
    }
   ],
   "source": [
    "# Pg 254\n",
    "\n",
    "# Define the model here\n",
    "sampling = SMOTEENN(enn = EditedNearestNeighbours(sampling_strategy='majority'))\n",
    "model = LogisticRegression(solver='liblinear')\n",
    "steps = [('t1', MinMaxScaler()), ('t2', PowerTransformer()), ('e', sampling), ('m', model)]\n",
    "pipeline = Pipeline(steps=steps)\n",
    "pipeline.fit(trainX, trainy)"
   ]
  },
  {
   "cell_type": "code",
   "execution_count": 27,
   "id": "d74159e4",
   "metadata": {},
   "outputs": [],
   "source": [
    "# Predicted probabilities here\n",
    "yhat = pipeline.predict_proba(testX)\n",
    "\n",
    "# Predicted classes here (based on default threshold of 0.5 for classification)\n",
    "y_pred_class = pipeline.predict(testX)\n",
    "\n",
    "# Keep probabilities for the positive outcome only\n",
    "yhat = yhat[:, 1]"
   ]
  },
  {
   "cell_type": "markdown",
   "id": "6aae9cbe",
   "metadata": {},
   "source": [
    "#### Optimal Threshold:\n",
    "* **ROC Curves**\n",
    "* Optimal balance between false positives and true positives rates\n",
    "* **Largest G-mean value**"
   ]
  },
  {
   "cell_type": "code",
   "execution_count": 31,
   "id": "9fcda1ad",
   "metadata": {},
   "outputs": [
    {
     "name": "stdout",
     "output_type": "stream",
     "text": [
      "Default Threshold = 0.5, G-mean Score: 0.7261\n"
     ]
    }
   ],
   "source": [
    "print(f\"Default Threshold = 0.5, G-mean Score: {geometric_mean_score(testy, y_pred_class):.4f}\")"
   ]
  },
  {
   "cell_type": "code",
   "execution_count": 32,
   "id": "8dfb2cd0",
   "metadata": {},
   "outputs": [
    {
     "name": "stdout",
     "output_type": "stream",
     "text": [
      "Best Threshold = 0.21772909351824177, G-mean Score = 0.9189\n"
     ]
    }
   ],
   "source": [
    "# Calculate ROC Curves\n",
    "fpr, tpr, thresholds = roc_curve(testy, yhat)\n",
    "\n",
    "gmeans = sqrt(tpr * (1-fpr))\n",
    "\n",
    "# Get best threshold\n",
    "J = tpr - fpr\n",
    "ix = argmax(J)\n",
    "best_threshold = thresholds[ix]\n",
    "print(f\"Best Threshold = {best_threshold}, G-mean Score = {gmeans[ix]:.4f}\")"
   ]
  },
  {
   "cell_type": "code",
   "execution_count": 20,
   "id": "bb6ee760",
   "metadata": {},
   "outputs": [
    {
     "data": {
      "image/png": "[encoded data removed]",
      "text/plain": [
       "<Figure size 432x288 with 1 Axes>"
      ]
     },
     "metadata": {
      "needs_background": "light"
     },
     "output_type": "display_data"
    }
   ],
   "source": [
    "# Visualize the above results\n",
    "\n",
    "# plot the roc curve for the model\n",
    "pyplot.plot([0,1], [0,1], linestyle='--', label='No Skill')\n",
    "pyplot.plot(fpr, tpr, marker='.', label='Logistic')\n",
    "pyplot.scatter(fpr[ix], tpr[ix], marker='o', color='black', label='Best')\n",
    "# axis labels\n",
    "pyplot.xlabel('False Positive Rate')\n",
    "pyplot.ylabel('True Positive Rate')\n",
    "pyplot.legend()\n",
    "# show the plot\n",
    "pyplot.show()"
   ]
  },
  {
   "cell_type": "markdown",
   "id": "d2d79b7f",
   "metadata": {},
   "source": [
    "**Note:**\n",
    "* Using the default threshold of 0.5, the G-mean score was 0.7261.\n",
    "* Using the Best Threshold found of 0.2177, the G-mean score was 0.9189.\n",
    "* We can also see this point on the above ROC curve.\n",
    "* We can see that it is possible to further fine-tune the threshold for classification, resulting in better performance based on the chosen evaluation metric that makes business sense."
   ]
  },
  {
   "cell_type": "markdown",
   "id": "10c92fa4",
   "metadata": {},
   "source": [
    "#### Optimal Threshold:\n",
    "* **Precision-Recall Curves**\n",
    "* Focuses on the performance of a classifier on the positive (minority class) only\n",
    "* If interested in the optimal balance of precision and recall\n",
    "* **Largest F-measure value**"
   ]
  },
  {
   "cell_type": "code",
   "execution_count": 21,
   "id": "757e77fd",
   "metadata": {},
   "outputs": [
    {
     "name": "stdout",
     "output_type": "stream",
     "text": [
      "Best Threshold=0.977484, F-measure=0.455\n"
     ]
    },
    {
     "data": {
      "image/png": "[encoded data removed]",
      "text/plain": [
       "<Figure size 432x288 with 1 Axes>"
      ]
     },
     "metadata": {
      "needs_background": "light"
     },
     "output_type": "display_data"
    }
   ],
   "source": [
    "# calculate roc curves\n",
    "precision, recall, thresholds = precision_recall_curve(testy, yhat)\n",
    "# convert to f-measure\n",
    "fscore = (2 * precision * recall) / (precision + recall)\n",
    "# locate the index of the largest f-measure\n",
    "ix = argmax(fscore)\n",
    "print('Best Threshold=%f, F-measure=%.3f' % (thresholds[ix], fscore[ix]))\n",
    "# plot the roc curve for the model\n",
    "no_skill = len(testy[testy==1]) / len(testy)\n",
    "pyplot.plot([0,1], [no_skill,no_skill], linestyle='--', label='No Skill')\n",
    "pyplot.plot(recall, precision, marker='.', label='Logistic')\n",
    "pyplot.scatter(recall[ix], precision[ix], marker='o', color='black', label='Best')\n",
    "# axis labels\n",
    "pyplot.xlabel('Recall')\n",
    "pyplot.ylabel('Precision')\n",
    "pyplot.legend()\n",
    "# show the plot\n",
    "pyplot.show()\n"
   ]
  },
  {
   "cell_type": "code",
   "execution_count": null,
   "id": "ee0b3cf6",
   "metadata": {},
   "outputs": [],
   "source": []
  },
  {
   "cell_type": "code",
   "execution_count": null,
   "id": "a1fcda39",
   "metadata": {},
   "outputs": [],
   "source": []
  },
  {
   "cell_type": "code",
   "execution_count": null,
   "id": "ea430abc",
   "metadata": {},
   "outputs": [],
   "source": []
  },
  {
   "cell_type": "code",
   "execution_count": null,
   "id": "1338eace",
   "metadata": {},
   "outputs": [],
   "source": []
  },
  {
   "cell_type": "code",
   "execution_count": null,
   "id": "22279fc7",
   "metadata": {},
   "outputs": [],
   "source": []
  },
  {
   "cell_type": "code",
   "execution_count": null,
   "id": "e0dfd139",
   "metadata": {},
   "outputs": [],
   "source": []
  },
  {
   "cell_type": "code",
   "execution_count": null,
   "id": "e4c57209",
   "metadata": {},
   "outputs": [],
   "source": []
  },
  {
   "cell_type": "code",
   "execution_count": null,
   "id": "55e8468b",
   "metadata": {},
   "outputs": [],
   "source": []
  },
  {
   "cell_type": "code",
   "execution_count": null,
   "id": "79f87fed",
   "metadata": {},
   "outputs": [],
   "source": []
  },
  {
   "cell_type": "code",
   "execution_count": null,
   "id": "61bf1990",
   "metadata": {},
   "outputs": [],
   "source": []
  }
 ],
 "metadata": {
  "kernelspec": {
   "display_name": "Python 3",
   "language": "python",
   "name": "python3"
  },
  "language_info": {
   "codemirror_mode": {
    "name": "ipython",
    "version": 3
   },
   "file_extension": ".py",
   "mimetype": "text/x-python",
   "name": "python",
   "nbconvert_exporter": "python",
   "pygments_lexer": "ipython3",
   "version": "3.9.4"
  }
 },
 "nbformat": 4,
 "nbformat_minor": 5
}

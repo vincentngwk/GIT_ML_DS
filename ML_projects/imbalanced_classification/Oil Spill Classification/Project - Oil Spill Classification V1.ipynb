{
 "cells": [
  {
   "cell_type": "markdown",
   "id": "b6963cd3",
   "metadata": {},
   "source": [
    "# Imbalanced Classification: Oil Spill Classification\n",
    "\n",
    "### Main techniques used:\n",
    "* Scaling\n",
    "* Normalization\n",
    "* Probabilistic Models\n",
    "* Data Sampling - SMOTE+ENN\n",
    "\n",
    "\n",
    "### Background:\n",
    "* The Oil Spill Classification dataset is an example of an imbalanced classification problem where a class label is required, and both positive and negative classes are equally important. (Detecting and acting on a spill is an expensive response, so false positives are bad. However it is also equally expensive and bad to miss an oil spill event.)\n",
    "* The G-mean provides a way to evaluate imbalanced classification model in such a situation where Sensitivity and Specificity are both important metrics."
   ]
  },
  {
   "cell_type": "code",
   "execution_count": 26,
   "id": "a5469169",
   "metadata": {},
   "outputs": [],
   "source": [
    "# Import necessary libraries\n",
    "\n",
    "from matplotlib import pyplot\n",
    "from collections import Counter\n",
    "\n",
    "from numpy import mean\n",
    "from numpy import std\n",
    "from pandas import read_csv\n",
    "from matplotlib import pyplot\n",
    "from sklearn.preprocessing import LabelEncoder\n",
    "from sklearn.model_selection import cross_val_score\n",
    "from sklearn.model_selection import RepeatedStratifiedKFold\n",
    "from sklearn.metrics import make_scorer\n",
    "from sklearn.linear_model import LogisticRegression\n",
    "from imblearn.metrics import geometric_mean_score\n",
    "from sklearn.preprocessing import PowerTransformer\n",
    "from sklearn.preprocessing import StandardScaler\n",
    "from sklearn.preprocessing import MinMaxScaler\n",
    "from imblearn.pipeline import Pipeline\n",
    "from imblearn.combine import SMOTEENN\n",
    "from imblearn.under_sampling import EditedNearestNeighbours\n",
    "\n",
    "from sklearn.dummy import DummyClassifier"
   ]
  },
  {
   "cell_type": "markdown",
   "id": "69c2ad92",
   "metadata": {},
   "source": [
    "### Simple EDA of the data"
   ]
  },
  {
   "cell_type": "code",
   "execution_count": 28,
   "id": "945ded07",
   "metadata": {},
   "outputs": [
    {
     "name": "stdout",
     "output_type": "stream",
     "text": [
      "(937, 50)\n",
      "Class = 1.0, Count = 41, Percentage = 4.376%\n",
      "Class = 0.0, Count = 896, Percentage = 95.624%\n"
     ]
    },
    {
     "data": {
      "image/png": "[encoded data removed]",
      "text/plain": [
       "<Figure size 432x288 with 56 Axes>"
      ]
     },
     "metadata": {
      "needs_background": "light"
     },
     "output_type": "display_data"
    }
   ],
   "source": [
    "filename = 'oil-spill.csv'\n",
    "dataframe = read_csv(filename, header=None)\n",
    "print(dataframe.shape)\n",
    "\n",
    "target = dataframe.values[:,-1]\n",
    "counter = Counter(target)\n",
    "for k, v in counter.items():\n",
    "    per = v / len(target) * 100\n",
    "    print(f\"Class = {k}, Count = {v}, Percentage = {per:.3f}%\")\n",
    "    \n",
    "ax = dataframe.hist()\n",
    "for axis in ax.flatten():\n",
    "    axis.set_title('')\n",
    "    axis.set_xticklabels([])\n",
    "    axis.set_yticklabels([])\n",
    "pyplot.show()"
   ]
  },
  {
   "cell_type": "markdown",
   "id": "ad5d4840",
   "metadata": {},
   "source": [
    "**Note:** We can see that the target class distribution is quite imbalanced.\n",
    "\n",
    "**Note:** We can also see that there are many different distributions, and we expect that scaling and using power transforms may be useful, before proceeding to modelling."
   ]
  },
  {
   "cell_type": "markdown",
   "id": "cf468411",
   "metadata": {},
   "source": [
    "### Evaluate a Baseline Model for reference"
   ]
  },
  {
   "cell_type": "code",
   "execution_count": 4,
   "id": "49c1b319",
   "metadata": {},
   "outputs": [],
   "source": [
    "# Define a few custom functions\n",
    "\n",
    "def load_dataset(full_path):\n",
    "    # load the dataset as a numpy array\n",
    "    data = read_csv(full_path, header=None)\n",
    "    # drop unused columns\n",
    "    data.drop(22, axis=1, inplace=True)\n",
    "    data.drop(0, axis=1, inplace=True)\n",
    "    # retrieve numpy array\n",
    "    data = data.values\n",
    "    # split into input and output elements\n",
    "    X, y = data[:, :-1], data[:, -1]\n",
    "    # label encode the target variable to have the classes 0 and 1\n",
    "    y = LabelEncoder().fit_transform(y)\n",
    "    return X, y\n",
    "\n",
    "# Evaluate a model\n",
    "def evaluate_model(X, y, model):\n",
    "    # define evaluation procedure\n",
    "    cv = RepeatedStratifiedKFold(n_splits=10, n_repeats=3, random_state=1)\n",
    "    # define the model evaluation the metric\n",
    "    metric = make_scorer(geometric_mean_score)\n",
    "    # evaluate model\n",
    "    scores = cross_val_score(model, X, y, scoring=metric, cv=cv, n_jobs=-1)\n",
    "    return scores"
   ]
  },
  {
   "cell_type": "code",
   "execution_count": 27,
   "id": "d630a2bd",
   "metadata": {},
   "outputs": [
    {
     "name": "stdout",
     "output_type": "stream",
     "text": [
      "(937, 47) (937,) Counter({0: 896, 1: 41})\n",
      "Mean G-Mean: 0.437 (0.154%)\n"
     ]
    }
   ],
   "source": [
    "# define the location of the dataset\n",
    "full_path = 'oil-spill.csv'\n",
    "\n",
    "# load the dataset\n",
    "X, y = load_dataset(full_path)\n",
    "\n",
    "# summarize the loaded dataset\n",
    "print(X.shape, y.shape, Counter(y))\n",
    "\n",
    "# define the reference model\n",
    "model = DummyClassifier(strategy='uniform')\n",
    "\n",
    "# evaluate the model\n",
    "scores = evaluate_model(X, y, model)\n",
    "\n",
    "# summarize performance\n",
    "# print('Mean G-Mean: %.3f (%.3f)' % (mean(scores), std(scores)))\n",
    "print(f\"Mean G-Mean: {mean(scores):.3f} ({std(scores):.3f}%)\")"
   ]
  },
  {
   "cell_type": "markdown",
   "id": "bbc6c3f6",
   "metadata": {},
   "source": [
    "**Note:** Remember that Sensitivity is a measure of accuracy for the positive class, and Specificity is a measure of accuracy for the negative class. \n",
    "\n",
    "**Note:** G-mean seeks a balance of the sensitivity score + the specificity score. Poor performance for either will be penalized.\n",
    "\n",
    "**Note:** We can see that the baseline algorithm achieves a G-mean of about 0.44. This score provides us with a lower limit on model skill. Any model that achieves an average G-mean of above 0.44 has skill, whereas models that achieve a score below this value do not have skill on this dataset."
   ]
  },
  {
   "cell_type": "markdown",
   "id": "4a2a5fa0",
   "metadata": {},
   "source": [
    "### Evaluate Data Sampling methods + Probabilistic Models\n",
    "\n",
    "We perform data sampling to better prepare the imbalanced training dataset prior to fitting a model.\n",
    "\n",
    "* SMOTE is a popular oversampling technique for creating new synthetic examples for the minority class.\n",
    "* The Edited Nearest Neighbor (ENN) algorithm locates and removes examples from the dataset that are ambigious, making it easier for models to learn to discriminate between the 2 classes.\n",
    "* The imbalanced-learn library has a SMOTEENN class that allows us to put both techniques together.\n",
    "* In addition, SMOTE and ENN both work better when the input data is scaled beforehand, as both techniques involve using the nearest neighbor algorithm internally, which is sensitive to input variables with different scales."
   ]
  },
  {
   "cell_type": "code",
   "execution_count": 5,
   "id": "7a618271",
   "metadata": {},
   "outputs": [],
   "source": [
    "# Define the models that we want to test\n",
    "\n",
    "def get_models():\n",
    "    models, names = list(), list()\n",
    "    # SMOTEENN\n",
    "    sampling = SMOTEENN(enn=EditedNearestNeighbours(sampling_strategy='majority'))\n",
    "    model = LogisticRegression(solver='liblinear')\n",
    "    steps = [('e', sampling), ('m', model)]\n",
    "    models.append(Pipeline(steps=steps))\n",
    "    names.append('SMOTEENN+LR')\n",
    "    # SMOTEENN + Normalization\n",
    "    sampling = SMOTEENN(enn=EditedNearestNeighbours(sampling_strategy='majority'))\n",
    "    model = LogisticRegression(solver='liblinear')\n",
    "    steps = [('t', MinMaxScaler()), ('e', sampling), ('m', model)]\n",
    "    models.append(Pipeline(steps=steps))\n",
    "    names.append('SMOTEEN+Normalization')\n",
    "    # SMOTEEN + Standardization\n",
    "    sampling = SMOTEENN(enn=EditedNearestNeighbours(sampling_strategy='majority'))\n",
    "    model = LogisticRegression(solver='liblinear')\n",
    "    steps = [('t', StandardScaler()), ('e', sampling), ('m', model)]\n",
    "    models.append(Pipeline(steps=steps))\n",
    "    names.append('SMOTEENN+Standardization')\n",
    "    # SMOTEENN + Normalization + Power Transform\n",
    "    sampling = SMOTEENN(enn = EditedNearestNeighbours(sampling_strategy='majority'))\n",
    "    model = LogisticRegression(solver='liblinear')\n",
    "    steps = [('t1', MinMaxScaler()), ('t2', PowerTransformer()), ('e', sampling), ('m', model)]\n",
    "    models.append(Pipeline(steps=steps))\n",
    "    names.append('SMOTEENN+Norm+PowerTransform')\n",
    "    return models, names"
   ]
  },
  {
   "cell_type": "code",
   "execution_count": 7,
   "id": "4c1ecb82",
   "metadata": {},
   "outputs": [],
   "source": [
    "full_path = 'oil-spill.csv'\n",
    "\n",
    "# Load the dataset\n",
    "X, y = load_dataset(full_path)\n",
    "\n",
    "# Define Models\n",
    "models, names = get_models()"
   ]
  },
  {
   "cell_type": "code",
   "execution_count": 8,
   "id": "e2933207",
   "metadata": {},
   "outputs": [
    {
     "name": "stdout",
     "output_type": "stream",
     "text": [
      "SMOTEENN+LR 0.857 (0.103)\n",
      "SMOTEEN+Normalization 0.838 (0.095)\n",
      "SMOTEENN+Standardization 0.828 (0.132)\n",
      "SMOTEENN+Norm+PowerTransform 0.882 (0.120)\n"
     ]
    }
   ],
   "source": [
    "# Evaluate each model\n",
    "results = list()\n",
    "\n",
    "for i in range(len(models)):\n",
    "    # Evaluate models and store results\n",
    "    scores = evaluate_model(X, y, models[i])\n",
    "    # Summarize and store the scores\n",
    "    print(f\"{names[i]} {mean(scores):.3f} ({std(scores):.3f})\")\n",
    "    results.append(scores)"
   ]
  },
  {
   "cell_type": "code",
   "execution_count": 16,
   "id": "d5d7f0cf",
   "metadata": {},
   "outputs": [
    {
     "data": {
      "image/png": "[encoded data removed]",
      "text/plain": [
       "<Figure size 864x288 with 1 Axes>"
      ]
     },
     "metadata": {
      "needs_background": "light"
     },
     "output_type": "display_data"
    }
   ],
   "source": [
    "# Plot the results from above\n",
    "pyplot.figure(figsize=(12,4))\n",
    "pyplot.boxplot(results, labels=names, showmeans=True)\n",
    "pyplot.xticks(rotation=-15)\n",
    "pyplot.show()\n",
    "\n",
    "# Tip to adjust plot aesthetics to render X ticks properly\n",
    "# https://www.programmersought.com/article/50984561968/"
   ]
  },
  {
   "cell_type": "markdown",
   "id": "ba8fee43",
   "metadata": {},
   "source": [
    "**Note:** Looking at the results, it seems that the combined techniques of: SMOTEENN + Normalization + Power Transforms + Logistic Regression provides the best G-mean score."
   ]
  },
  {
   "cell_type": "markdown",
   "id": "9cac9add",
   "metadata": {},
   "source": [
    "### Further steps:\n",
    "* It is possible to further evaluate a group of different classifiers, and pick the 1 with the best potential.\n",
    "* One can further tune the hyperparameters of the best performing model.\n",
    "* Standard approaches such as GridSearchCV can be applied."
   ]
  },
  {
   "cell_type": "code",
   "execution_count": null,
   "id": "473cea69",
   "metadata": {},
   "outputs": [],
   "source": []
  }
 ],
 "metadata": {
  "kernelspec": {
   "display_name": "Python 3",
   "language": "python",
   "name": "python3"
  },
  "language_info": {
   "codemirror_mode": {
    "name": "ipython",
    "version": 3
   },
   "file_extension": ".py",
   "mimetype": "text/x-python",
   "name": "python",
   "nbconvert_exporter": "python",
   "pygments_lexer": "ipython3",
   "version": "3.9.4"
  }
 },
 "nbformat": 4,
 "nbformat_minor": 5
}

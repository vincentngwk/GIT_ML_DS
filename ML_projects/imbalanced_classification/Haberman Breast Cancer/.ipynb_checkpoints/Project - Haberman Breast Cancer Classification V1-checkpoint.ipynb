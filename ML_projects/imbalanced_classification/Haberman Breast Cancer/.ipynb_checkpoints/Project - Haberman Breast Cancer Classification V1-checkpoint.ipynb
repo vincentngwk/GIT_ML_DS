{
 "cells": [
  {
   "cell_type": "markdown",
   "id": "3244eb95",
   "metadata": {},
   "source": [
    "# Imbalanced Classification: Haberman Breast Cancer Classification\n",
    "\n",
    "### Main techniques used:\n",
    "* Scaling\n",
    "* Normalization\n",
    "* Probabilistic Models"
   ]
  },
  {
   "cell_type": "code",
   "execution_count": 1,
   "id": "18b989d4",
   "metadata": {},
   "outputs": [],
   "source": [
    "# Installing necessary libraries\n",
    "# https://anaconda.org/conda-forge/imbalanced-learn"
   ]
  },
  {
   "cell_type": "code",
   "execution_count": 2,
   "id": "1701b43d",
   "metadata": {},
   "outputs": [],
   "source": [
    "# import necessary libraries\n",
    "from collections import Counter\n",
    "\n",
    "from numpy import mean\n",
    "from numpy import std\n",
    "from pandas import read_csv\n",
    "from matplotlib import pyplot\n",
    "from sklearn.preprocessing import LabelEncoder\n",
    "from sklearn.model_selection import cross_val_score\n",
    "from sklearn.model_selection import RepeatedStratifiedKFold\n",
    "from sklearn.metrics import brier_score_loss\n",
    "from sklearn.metrics import make_scorer\n",
    "from sklearn.linear_model import LogisticRegression\n",
    "from sklearn.discriminant_analysis import LinearDiscriminantAnalysis\n",
    "from sklearn.discriminant_analysis import QuadraticDiscriminantAnalysis\n",
    "from sklearn.naive_bayes import GaussianNB\n",
    "from sklearn.gaussian_process import GaussianProcessClassifier\n",
    "from sklearn.pipeline import Pipeline\n",
    "from sklearn.preprocessing import PowerTransformer\n",
    "from sklearn.preprocessing import MinMaxScaler\n",
    "\n",
    "from sklearn.dummy import DummyClassifier"
   ]
  },
  {
   "cell_type": "markdown",
   "id": "103f45b1",
   "metadata": {},
   "source": [
    "### Simple EDA of the data"
   ]
  },
  {
   "cell_type": "code",
   "execution_count": 3,
   "id": "d5800551",
   "metadata": {},
   "outputs": [
    {
     "data": {
      "image/png": "[encoded data removed]",
      "text/plain": [
       "<Figure size 432x288 with 4 Axes>"
      ]
     },
     "metadata": {
      "needs_background": "light"
     },
     "output_type": "display_data"
    },
    {
     "name": "stdout",
     "output_type": "stream",
     "text": [
      "Class=1, Count=225, Percentage=73.529%\n",
      "Class=2, Count=81, Percentage=26.471%\n"
     ]
    }
   ],
   "source": [
    "# Perform simple EDA\n",
    "filename = 'haberman.csv'\n",
    "\n",
    "# Define dataset column names\n",
    "columns = ['age','year','nodes','class']\n",
    "\n",
    "# Load the csv file as a dataframe\n",
    "dataframe = read_csv(filename, header=None, names=columns)\n",
    "\n",
    "# Create a histogram plot for each variable\n",
    "dataframe.hist()\n",
    "pyplot.show()\n",
    "\n",
    "\n",
    "# We also summarize the target class distribution for this dataset:\n",
    "\n",
    "target = dataframe['class'].values\n",
    "counter = Counter(target)\n",
    "for k, v in counter.items():\n",
    "    per = v / len(target)*100\n",
    "    print(f\"Class={k}, Count={v}, Percentage={per:.3f}%\")"
   ]
  },
  {
   "cell_type": "markdown",
   "id": "933d326c",
   "metadata": {},
   "source": [
    "**Note:** We can see from the distributions that it may be useful to do scaling and normalization before modelling.\n",
    "\n",
    "**Note:** In addition, we see that the classes are imbalanced (although not extreme)."
   ]
  },
  {
   "cell_type": "markdown",
   "id": "9665862c",
   "metadata": {},
   "source": [
    "### Evaluate a Baseline Model for reference first"
   ]
  },
  {
   "cell_type": "code",
   "execution_count": 4,
   "id": "2bdf10cb",
   "metadata": {},
   "outputs": [],
   "source": [
    "# Define a few custom functions\n",
    "\n",
    "def load_dataset(full_path):\n",
    "    # loading the dataset as a numpy array\n",
    "    data = read_csv(full_path, header=None)\n",
    "    # retrieve the numpy array\n",
    "    data = data.values\n",
    "    # split into input and output elements\n",
    "    X, y = data[:, :-1], data[:,-1]\n",
    "    # label encode the target variable to have the classes 0 and 1\n",
    "    y = LabelEncoder().fit_transform(y)\n",
    "    return X, y\n",
    "\n",
    "# Calculate the brier skill score (BSS)\n",
    "def brier_skill_score(y_true, y_prob):\n",
    "    # Calculate reference brier score\n",
    "    ref_probs = [0.26471 for _ in range(len(y_true))]\n",
    "    bs_ref = brier_score_loss(y_true, ref_probs)\n",
    "    # Calculate model brier score\n",
    "    bs_model = brier_score_loss(y_true, y_prob)\n",
    "    # Calculate skill score\n",
    "    return 1.0-(bs_model/bs_ref)\n",
    "\n",
    "# Evaluate given models\n",
    "def evaluate_model(X, y, model):\n",
    "    # Define our evaluation procedure\n",
    "    cv = RepeatedStratifiedKFold(n_splits=10, n_repeats=3, random_state=88)\n",
    "    # Define the model evaluation metric\n",
    "    metric = make_scorer(brier_skill_score, needs_proba=True)\n",
    "    # Evaluate the model\n",
    "    scores = cross_val_score(model, X, y, scoring=metric, cv=cv, n_jobs=-1)\n",
    "    return scores"
   ]
  },
  {
   "cell_type": "code",
   "execution_count": 5,
   "id": "31da364f",
   "metadata": {},
   "outputs": [
    {
     "name": "stdout",
     "output_type": "stream",
     "text": [
      "(306, 3) (306,) Counter({0: 225, 1: 81})\n",
      "Mean Brier Skill Score as a baseline reference: -0.000 (0.000)\n"
     ]
    }
   ],
   "source": [
    "full_path = 'haberman.csv'\n",
    "\n",
    "# load the dataset\n",
    "X, y = load_dataset(full_path)\n",
    "\n",
    "# summarize the loaded dataset\n",
    "print(X.shape, y.shape, Counter(y))\n",
    "\n",
    "# define the reference model\n",
    "model = DummyClassifier(strategy='prior')\n",
    "\n",
    "# evaluate the model\n",
    "scores = evaluate_model(X, y, model)\n",
    "\n",
    "# summarize performance\n",
    "print(f\"Mean Brier Skill Score as a baseline reference: {mean(scores):.3f} ({std(scores):.3f})\")"
   ]
  },
  {
   "cell_type": "markdown",
   "id": "d832ef9f",
   "metadata": {},
   "source": [
    "**Note:** The baseline BSS as a reference merely predicts the prior probability of each class in the training dataset.\n",
    "* It has a score of 0.\n",
    "* Anything above indicates a lift.\n",
    "* Anything below indicates being worse than the baseline."
   ]
  },
  {
   "cell_type": "markdown",
   "id": "f09a5960",
   "metadata": {},
   "source": [
    "### Evaluate Probabilistic Models\n",
    "\n",
    "These models are fit under a probabilitic framework and explicitly predict a calibrated probability for each example.\n",
    "\n",
    "In addition, we will also perform some feature processing:\n",
    "* Standardization using MinMaxScaler()\n",
    "* Normalization using PowerTransformer()"
   ]
  },
  {
   "cell_type": "code",
   "execution_count": 6,
   "id": "84603fd3",
   "metadata": {},
   "outputs": [],
   "source": [
    "# Select the models to test\n",
    "\n",
    "def get_models():\n",
    "    models, names = list(), list()\n",
    "    # Logistic Regression\n",
    "    models.append(LogisticRegression(solver='lbfgs'))\n",
    "    names.append('LR')\n",
    "    # LDA\n",
    "    models.append(LinearDiscriminantAnalysis())\n",
    "    names.append('LDA')\n",
    "    # QDA\n",
    "    models.append(QuadraticDiscriminantAnalysis())\n",
    "    names.append('QDA')\n",
    "    # GNB\n",
    "    models.append(GaussianNB())\n",
    "    names.append('GNB')\n",
    "    # GPC\n",
    "    models.append(GaussianProcessClassifier())\n",
    "    names.append('GPC')\n",
    "    return models, names"
   ]
  },
  {
   "cell_type": "code",
   "execution_count": 7,
   "id": "25df8255",
   "metadata": {},
   "outputs": [],
   "source": [
    "# Location of input dataset\n",
    "full_path = 'haberman.csv'\n",
    "\n",
    "# Load the dataset\n",
    "X, y = load_dataset(full_path)\n",
    "\n",
    "# Define models\n",
    "models, names = get_models()\n",
    "results = list()"
   ]
  },
  {
   "cell_type": "code",
   "execution_count": 8,
   "id": "ee960a0c",
   "metadata": {},
   "outputs": [
    {
     "name": "stdout",
     "output_type": "stream",
     "text": [
      "The higher the Brier Skill Score, the better:\n",
      "We show the mean, followed by the standard deviation of the BSS for each model:\n",
      "LR: 0.111 (0.100)\n",
      "LDA: 0.108 (0.119)\n",
      "QDA: 0.107 (0.127)\n",
      "GNB: 0.096 (0.137)\n",
      "GPC: 0.098 (0.082)\n"
     ]
    }
   ],
   "source": [
    "# Evaluate each model here\n",
    "print(f\"The higher the Brier Skill Score, the better:\")\n",
    "print(f\"We show the mean, followed by the standard deviation of the BSS for each model:\")\n",
    "for i in range(len(models)):\n",
    "    # Create a pipeline here\n",
    "    steps = [('t1', MinMaxScaler()), ('t2', PowerTransformer()), ('m',models[i])]\n",
    "    pipeline = Pipeline(steps=steps)\n",
    "    # Evaluate the model and store results\n",
    "    scores = evaluate_model(X, y, pipeline)\n",
    "    results.append(scores)\n",
    "    # Summarize and printe the scores\n",
    "    print(f\"{names[i]}: {mean(scores):.3f} ({std(scores):.3f})\")"
   ]
  },
  {
   "cell_type": "code",
   "execution_count": 9,
   "id": "b25b5943",
   "metadata": {},
   "outputs": [
    {
     "data": {
      "image/png": "[encoded data removed]",
      "text/plain": [
       "<Figure size 432x288 with 1 Axes>"
      ]
     },
     "metadata": {
      "needs_background": "light"
     },
     "output_type": "display_data"
    }
   ],
   "source": [
    "# Plot the results from above\n",
    "pyplot.boxplot(results, labels=names, showmeans=True)\n",
    "pyplot.show()"
   ]
  },
  {
   "cell_type": "markdown",
   "id": "719428be",
   "metadata": {},
   "source": [
    "**Note:** Looking at the results, it seems that Logistic Regression (\"LR\") has the best performance."
   ]
  },
  {
   "cell_type": "code",
   "execution_count": null,
   "id": "82da89af",
   "metadata": {},
   "outputs": [],
   "source": []
  }
 ],
 "metadata": {
  "kernelspec": {
   "display_name": "Python 3",
   "language": "python",
   "name": "python3"
  },
  "language_info": {
   "codemirror_mode": {
    "name": "ipython",
    "version": 3
   },
   "file_extension": ".py",
   "mimetype": "text/x-python",
   "name": "python",
   "nbconvert_exporter": "python",
   "pygments_lexer": "ipython3",
   "version": "3.9.4"
  }
 },
 "nbformat": 4,
 "nbformat_minor": 5
}

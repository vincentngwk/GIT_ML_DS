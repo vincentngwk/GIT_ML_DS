{
 "cells": [
  {
   "cell_type": "markdown",
   "id": "318f442a",
   "metadata": {},
   "source": [
    "# Imbalanced Classification: German Credit Classification\n",
    "\n",
    "### Main techniques used:\n",
    "* One-Hot Encoding (Categorical vars)\n",
    "* Scaling (Numeric vars)\n",
    "* Undersampling\n",
    "\n",
    "\n",
    "### Background:\n",
    "* The German Credit Classification dataset is a standard imbalanced machine learning dataset that describes financial and banking details for customers, with the aim to determine whether the customer is good or bad. This involves predicting whether a customer will pay back a loan or credit. The dataset contains a mixture of categorical and numerical variables.\n",
    "* In addition, it is given that it is more costly for the financial institution to have false negatives than for false positives."
   ]
  },
  {
   "cell_type": "code",
   "execution_count": 1,
   "id": "8ac3324d",
   "metadata": {},
   "outputs": [],
   "source": [
    "# import necessary libraries\n",
    "from collections import Counter\n",
    "\n",
    "from numpy import mean\n",
    "from numpy import std\n",
    "from pandas import read_csv\n",
    "from sklearn.preprocessing import LabelEncoder\n",
    "from sklearn.preprocessing import OneHotEncoder\n",
    "from sklearn.preprocessing import MinMaxScaler\n",
    "from sklearn.compose import ColumnTransformer\n",
    "from sklearn.model_selection import cross_val_score\n",
    "from sklearn.model_selection import RepeatedStratifiedKFold\n",
    "from sklearn.metrics import fbeta_score\n",
    "from sklearn.metrics import make_scorer\n",
    "from matplotlib import pyplot\n",
    "from sklearn.linear_model import LogisticRegression\n",
    "from imblearn.pipeline import Pipeline\n",
    "from imblearn.under_sampling import TomekLinks\n",
    "from imblearn.under_sampling import EditedNearestNeighbours\n",
    "from imblearn.under_sampling import RepeatedEditedNearestNeighbours\n",
    "from imblearn.under_sampling import NeighbourhoodCleaningRule\n",
    "from imblearn.under_sampling import OneSidedSelection\n",
    "\n",
    "from sklearn.dummy import DummyClassifier"
   ]
  },
  {
   "cell_type": "markdown",
   "id": "bb5a2c66",
   "metadata": {},
   "source": [
    "### Simple EDA of the data"
   ]
  },
  {
   "cell_type": "code",
   "execution_count": 2,
   "id": "196dbffc",
   "metadata": {},
   "outputs": [
    {
     "name": "stdout",
     "output_type": "stream",
     "text": [
      "(1000, 21)\n",
      "Class = 1, Count = 700, Percentage = 70.000%\n",
      "Class = 2, Count = 300, Percentage = 30.000%\n"
     ]
    }
   ],
   "source": [
    "filename = 'german.csv'\n",
    "\n",
    "# load the csv file as a data frame\n",
    "dataframe = read_csv(filename, header=None)\n",
    "\n",
    "# summarize the shape of the dataset\n",
    "print(dataframe.shape)\n",
    "\n",
    "# summarize the class distribution\n",
    "target = dataframe.values[:,-1]\n",
    "counter = Counter(target)\n",
    "for k,v in counter.items():\n",
    "    per = v / len(target) * 100\n",
    "    print(f\"Class = {k}, Count = {v}, Percentage = {per:.3f}%\")"
   ]
  },
  {
   "cell_type": "code",
   "execution_count": 3,
   "id": "37026197",
   "metadata": {},
   "outputs": [
    {
     "data": {
      "image/png": "[encoded data removed]",
      "text/plain": [
       "<Figure size 432x288 with 9 Axes>"
      ]
     },
     "metadata": {
      "needs_background": "light"
     },
     "output_type": "display_data"
    }
   ],
   "source": [
    "# select columns with numerical data types\n",
    "num_ix = dataframe.select_dtypes(include=['int64', 'float64']).columns\n",
    "\n",
    "# select a subset of the dataframe with the chosen columns\n",
    "subset = dataframe[num_ix]\n",
    "\n",
    "# create a histogram plot of each numeric variable\n",
    "ax = subset.hist()\n",
    "\n",
    "# disable axis labels to avoid the clutter\n",
    "for axis in ax.flatten():\n",
    "    axis.set_xticklabels([])\n",
    "    axis.set_yticklabels([])\n",
    "    \n",
    "# show the plot\n",
    "pyplot.show()"
   ]
  },
  {
   "cell_type": "markdown",
   "id": "3333854c",
   "metadata": {},
   "source": [
    "**Note:** We can see for the numerical variables, there are a wide range of distributions. These variables could benefit from performing scaling, and perhaps the use of power transforms, before moving on to modelling."
   ]
  },
  {
   "cell_type": "markdown",
   "id": "e52245f1",
   "metadata": {},
   "source": [
    "### Evaluate a baseline model for reference"
   ]
  },
  {
   "cell_type": "code",
   "execution_count": 4,
   "id": "9859df59",
   "metadata": {},
   "outputs": [],
   "source": [
    "# Define a few custom functions\n",
    "\n",
    "def load_dataset(full_path):\n",
    "    # load the dataset as a numpy array\n",
    "    dataframe = read_csv(full_path, header=None)\n",
    "    # split into inputs and outputs\n",
    "    last_ix = len(dataframe.columns) - 1\n",
    "    X, y = dataframe.drop(last_ix, axis=1), dataframe[last_ix]\n",
    "    # select categorical features\n",
    "    cat_ix = X.select_dtypes(include=['object', 'bool']).columns\n",
    "    # one hot encode cat features only\n",
    "    ct = ColumnTransformer([('o',OneHotEncoder(),cat_ix)], remainder='passthrough')\n",
    "    X = ct.fit_transform(X)\n",
    "    # label encode the target variable to have the classes 0 and 1\n",
    "    y = LabelEncoder().fit_transform(y)\n",
    "    return X, y\n",
    "\n",
    "# Calculate the f2-measure\n",
    "def f2_measure(y_true, y_pred):\n",
    "    return fbeta_score(y_true, y_pred, beta=2)\n",
    "\n",
    "def evaluate_model(X, y, model):\n",
    "    # Define evaluation procedure\n",
    "    cv = RepeatedStratifiedKFold(n_splits=10, n_repeats=3, random_state=88)\n",
    "    # Define the model evaluation metric\n",
    "    metric = make_scorer(f2_measure)\n",
    "    # Evaluate model\n",
    "    scores = cross_val_score(model, X, y, scoring=metric, cv=cv, n_jobs=-1)\n",
    "    return scores"
   ]
  },
  {
   "cell_type": "code",
   "execution_count": 5,
   "id": "dcf0c7fe",
   "metadata": {},
   "outputs": [
    {
     "name": "stdout",
     "output_type": "stream",
     "text": [
      "(1000, 61) (1000,) Counter({0: 700, 1: 300})\n",
      "Mean F2: 0.682 (0.000)\n"
     ]
    }
   ],
   "source": [
    "full_path = 'german.csv'\n",
    "X, y = load_dataset(full_path)\n",
    "\n",
    "# summarize the loaded dataset\n",
    "print(X.shape, y.shape, Counter(y))\n",
    "\n",
    "# define the reference model\n",
    "model = DummyClassifier(strategy='constant', constant=1)\n",
    "\n",
    "# evaluate the model\n",
    "scores = evaluate_model(X, y, model)\n",
    "\n",
    "# summarize performance\n",
    "print(f\"Mean F2: {mean(scores):.3f} ({std(scores):.3f})\")"
   ]
  },
  {
   "cell_type": "markdown",
   "id": "86377fb4",
   "metadata": {},
   "source": [
    "**Note:** The normal F-measure calculates the harmonic mean between precision and recall. However in this dataset, false negatives (bad customers being makred as a good customers and being given a loan) are more damaging to the financial institution that false positives.\n",
    "\n",
    "**Note:** We use a different version of the F-measure, the F2-measure, which favors higher recall scores over precision scores. This better summarizes the model's ability to minimize false negatives over false positives.\n",
    "\n",
    "**Note:** Here, we can see that the average of the F2-measure scores are reported. The baseline algorithm achieves an F2-measure of about 0.682. This provides a lower limit on model skill. Models that achieve an average F2-measure of above 0.682 have skill, while those below do not have skill on this dataset. "
   ]
  },
  {
   "cell_type": "markdown",
   "id": "21e8be02",
   "metadata": {},
   "source": [
    "### Evaluate UnderSampling Methods\n",
    "\n"
   ]
  },
  {
   "cell_type": "code",
   "execution_count": 6,
   "id": "2fa4b359",
   "metadata": {},
   "outputs": [],
   "source": [
    "# Update our custom function\n",
    "def load_dataset(full_path):\n",
    "    # load the dataset as a numpy array\n",
    "    dataframe = read_csv(full_path, header=None)\n",
    "    # split into inputs and outputs\n",
    "    last_ix = len(dataframe.columns) - 1\n",
    "    X, y = dataframe.drop(last_ix, axis=1), dataframe[last_ix]\n",
    "    # select categorical and numerical features\n",
    "    cat_ix = X.select_dtypes(include=['object', 'bool']).columns\n",
    "    num_ix = X.select_dtypes(include=['int64', 'float64']).columns\n",
    "    # Perform label encoding for the target variable to have the classes 0 and 1\n",
    "    y = LabelEncoder().fit_transform(y)\n",
    "    return X.values, y, cat_ix, num_ix"
   ]
  },
  {
   "cell_type": "code",
   "execution_count": 7,
   "id": "fc40bdc4",
   "metadata": {},
   "outputs": [],
   "source": [
    "# Define the undersampling models to test\n",
    "def get_models():\n",
    "    models, names = list(), list()\n",
    "    # Tomek Links\n",
    "    models.append(TomekLinks())\n",
    "    names.append('TL')\n",
    "    # Edited Nearest Neighbors\n",
    "    models.append(EditedNearestNeighbours())\n",
    "    names.append('ENN')\n",
    "    # Repeated Edited Nearest Neighbors\n",
    "    models.append(RepeatedEditedNearestNeighbours())\n",
    "    names.append('RENN')\n",
    "    # One Sided Selection\n",
    "    models.append(OneSidedSelection())\n",
    "    names.append('OSS')\n",
    "    # Neighbourhood Cleaning Rule\n",
    "    models.append(NeighbourhoodCleaningRule())\n",
    "    names.append('NCR')\n",
    "    return models, names"
   ]
  },
  {
   "cell_type": "code",
   "execution_count": 8,
   "id": "6a1c0266",
   "metadata": {},
   "outputs": [],
   "source": [
    "full_path = 'german.csv'\n",
    "\n",
    "# Load the dataset\n",
    "X, y, cat_ix, num_ix = load_dataset(full_path)\n",
    "\n",
    "# Define the models\n",
    "models, names = get_models()"
   ]
  },
  {
   "cell_type": "code",
   "execution_count": 9,
   "id": "3ddf3738",
   "metadata": {},
   "outputs": [
    {
     "name": "stdout",
     "output_type": "stream",
     "text": [
      "The F2-measure score for the 5 undersampling methods + Logisstic Regression:\n",
      "TL 0.672 (0.043)\n",
      "ENN 0.701 (0.043)\n",
      "RENN 0.721 (0.036)\n",
      "OSS 0.670 (0.048)\n",
      "NCR 0.684 (0.044)\n"
     ]
    }
   ],
   "source": [
    "# Evaluate each model\n",
    "results = list()\n",
    "\n",
    "print(f\"The F2-measure score for the 5 undersampling methods + Logisstic Regression:\")\n",
    "\n",
    "for i in range(len(models)):\n",
    "    # Define the model to evaluate\n",
    "    model = LogisticRegression(solver='liblinear', class_weight = 'balanced')\n",
    "    # One Hot encode categorical variables, and normalize numerical variables\n",
    "    ct = ColumnTransformer([('c', OneHotEncoder(),cat_ix), ('n', MinMaxScaler(),num_ix)])\n",
    "    # Scale, then Undersample, then finally fit the model\n",
    "    pipeline = Pipeline(steps=[('t',ct), ('s',models[i]), ('m',model)])\n",
    "    # Evaluate the model and store the results\n",
    "    scores = evaluate_model(X, y, pipeline)\n",
    "    results.append(scores)\n",
    "    print(f\"{names[i]} {mean(scores):.3f} ({std(scores):.3f})\")"
   ]
  },
  {
   "cell_type": "code",
   "execution_count": 10,
   "id": "45e66e0a",
   "metadata": {},
   "outputs": [
    {
     "data": {
      "image/png": "[encoded data removed]",
      "text/plain": [
       "<Figure size 432x288 with 1 Axes>"
      ]
     },
     "metadata": {
      "needs_background": "light"
     },
     "output_type": "display_data"
    }
   ],
   "source": [
    "# Visualize the above results\n",
    "pyplot.boxplot(results, labels=names, showmeans=True)\n",
    "pyplot.show()"
   ]
  },
  {
   "cell_type": "markdown",
   "id": "7efe97dc",
   "metadata": {},
   "source": [
    "**Note:** Looking at the results, it seems that using the UnderSampling method of Repeated Edited Nearest Neighbors provides the best F2-measure."
   ]
  },
  {
   "cell_type": "markdown",
   "id": "bf2c11c2",
   "metadata": {},
   "source": [
    "### Further steps:\n",
    "* It is possible to further evaluate a group of different classifiers, and pick the 1 with the best potential.\n",
    "* One can further tune the hyperparameters of the best performing model.\n",
    "* Standard approaches such as GridSearchCV can be applied."
   ]
  },
  {
   "cell_type": "code",
   "execution_count": null,
   "id": "4c1f92d0",
   "metadata": {},
   "outputs": [],
   "source": []
  }
 ],
 "metadata": {
  "kernelspec": {
   "display_name": "Python 3",
   "language": "python",
   "name": "python3"
  },
  "language_info": {
   "codemirror_mode": {
    "name": "ipython",
    "version": 3
   },
   "file_extension": ".py",
   "mimetype": "text/x-python",
   "name": "python",
   "nbconvert_exporter": "python",
   "pygments_lexer": "ipython3",
   "version": "3.9.4"
  }
 },
 "nbformat": 4,
 "nbformat_minor": 5
}

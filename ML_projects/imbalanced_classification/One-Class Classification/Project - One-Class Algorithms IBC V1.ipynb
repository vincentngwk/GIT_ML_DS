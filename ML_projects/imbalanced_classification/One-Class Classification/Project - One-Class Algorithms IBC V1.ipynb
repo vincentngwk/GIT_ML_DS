{
 "cells": [
  {
   "cell_type": "markdown",
   "id": "6db76d8d",
   "metadata": {},
   "source": [
    "# Imbalanced Classification: One-Class Algorithms for Imbalanced Classification\n",
    "\n",
    "### Main techniques used:\n",
    "* Scaling\n",
    "* Normalization\n",
    "* **One-Class Support Vector Machines**\n",
    "* **Isolation Forests**\n",
    "* **Minimum Covariance Determinant (MCD/ Elliptic Envelope)**\n",
    "* **Local Outlier Factor**\n",
    "\n",
    "### Background:\n",
    "* The Oil Spill Classification dataset is an example of an imbalanced classification problem where a class label is required, and both positive and negative classes are equally important. (Detecting and acting on a spill is an expensive response, so false positives are bad. However it is also equally expensive and bad to miss an oil spill event.)\n",
    "* In this project, we will utilize various One-Class Algorithm Classifiers for Imbalanced Classification tasks."
   ]
  },
  {
   "cell_type": "code",
   "execution_count": 1,
   "id": "d67d3e1b",
   "metadata": {},
   "outputs": [],
   "source": [
    "# Import necessary libraries\n",
    "\n",
    "from matplotlib import pyplot\n",
    "from collections import Counter\n",
    "\n",
    "from numpy import mean\n",
    "from numpy import std\n",
    "from pandas import read_csv\n",
    "from matplotlib import pyplot\n",
    "from sklearn.preprocessing import LabelEncoder\n",
    "from sklearn.model_selection import cross_val_score\n",
    "from sklearn.model_selection import RepeatedStratifiedKFold\n",
    "from sklearn.metrics import make_scorer\n",
    "from sklearn.linear_model import LogisticRegression\n",
    "from imblearn.metrics import geometric_mean_score\n",
    "from sklearn.preprocessing import PowerTransformer\n",
    "from sklearn.preprocessing import StandardScaler\n",
    "from sklearn.preprocessing import MinMaxScaler\n",
    "from imblearn.pipeline import Pipeline\n",
    "from imblearn.combine import SMOTEENN\n",
    "from imblearn.under_sampling import EditedNearestNeighbours\n",
    "from sklearn.svm import OneClassSVM\n",
    "from sklearn.ensemble import IsolationForest\n",
    "from sklearn.covariance import EllipticEnvelope\n",
    "from sklearn.neighbors import LocalOutlierFactor\n",
    "from numpy import vstack\n",
    "\n",
    "from sklearn.dummy import DummyClassifier\n",
    "\n",
    "from sklearn.model_selection import train_test_split\n",
    "from sklearn.metrics import roc_curve\n",
    "from sklearn.metrics import precision_recall_curve\n",
    "from sklearn.metrics import f1_score\n",
    "from sklearn.metrics import confusion_matrix\n",
    "from sklearn.metrics import classification_report\n",
    "from numpy import arange"
   ]
  },
  {
   "cell_type": "markdown",
   "id": "6340b702",
   "metadata": {},
   "source": [
    "### Simple EDA of the data"
   ]
  },
  {
   "cell_type": "code",
   "execution_count": 2,
   "id": "1486f4ed",
   "metadata": {},
   "outputs": [
    {
     "name": "stdout",
     "output_type": "stream",
     "text": [
      "(937, 50)\n",
      "Class = 1.0, Count = 41, Percentage = 4.376%\n",
      "Class = 0.0, Count = 896, Percentage = 95.624%\n"
     ]
    },
    {
     "data": {
      "image/png": "[encoded data removed]",
      "text/plain": [
       "<Figure size 432x288 with 56 Axes>"
      ]
     },
     "metadata": {
      "needs_background": "light"
     },
     "output_type": "display_data"
    }
   ],
   "source": [
    "filename = 'oil-spill.csv'\n",
    "dataframe = read_csv(filename, header=None)\n",
    "print(dataframe.shape)\n",
    "\n",
    "target = dataframe.values[:,-1]\n",
    "counter = Counter(target)\n",
    "for k, v in counter.items():\n",
    "    per = v / len(target) * 100\n",
    "    print(f\"Class = {k}, Count = {v}, Percentage = {per:.3f}%\")\n",
    "    \n",
    "ax = dataframe.hist()\n",
    "for axis in ax.flatten():\n",
    "    axis.set_title('')\n",
    "    axis.set_xticklabels([])\n",
    "    axis.set_yticklabels([])\n",
    "pyplot.show()"
   ]
  },
  {
   "cell_type": "markdown",
   "id": "34a05ca6",
   "metadata": {},
   "source": [
    "**Note:** We can see that the target class distribution is quite imbalanced.\n",
    "\n",
    "**Note:** We can also see that there are many different distributions, and we expect that scaling and using power transforms may be useful, before proceeding to modelling."
   ]
  },
  {
   "cell_type": "code",
   "execution_count": 3,
   "id": "b87216c0",
   "metadata": {},
   "outputs": [],
   "source": [
    "# Define a few custom functions\n",
    "\n",
    "def load_dataset(full_path):\n",
    "    # load the dataset as a numpy array\n",
    "    data = read_csv(full_path, header=None)\n",
    "    # drop unused columns\n",
    "    data.drop(22, axis=1, inplace=True)\n",
    "    data.drop(0, axis=1, inplace=True)\n",
    "    # retrieve numpy array\n",
    "    data = data.values\n",
    "    # split into input and output elements\n",
    "    X, y = data[:, :-1], data[:, -1]\n",
    "    # label encode the target variable to have the classes 0 and 1\n",
    "    y = LabelEncoder().fit_transform(y)\n",
    "    return X, y"
   ]
  },
  {
   "cell_type": "code",
   "execution_count": 4,
   "id": "b3c5713a",
   "metadata": {},
   "outputs": [
    {
     "name": "stdout",
     "output_type": "stream",
     "text": [
      "(937, 47) (937,) Counter({0: 896, 1: 41})\n"
     ]
    }
   ],
   "source": [
    "# define the location of the dataset\n",
    "full_path = 'oil-spill.csv'\n",
    "\n",
    "# load the dataset\n",
    "X, y = load_dataset(full_path)\n",
    "\n",
    "# summarize the loaded dataset\n",
    "print(X.shape, y.shape, Counter(y))"
   ]
  },
  {
   "cell_type": "code",
   "execution_count": 5,
   "id": "b7c8376d",
   "metadata": {},
   "outputs": [],
   "source": [
    "trainX, testX, trainy, testy = train_test_split(X, y, test_size=0.3, random_state=88,\n",
    "                                               stratify=y)"
   ]
  },
  {
   "cell_type": "code",
   "execution_count": 7,
   "id": "6cb23d20",
   "metadata": {},
   "outputs": [],
   "source": [
    "# Mark inliers as 1, outliers as -1\n",
    "testy[testy == 1] = -1\n",
    "testy[testy == 0] = 1"
   ]
  },
  {
   "cell_type": "code",
   "execution_count": 8,
   "id": "6a1cd18a",
   "metadata": {},
   "outputs": [
    {
     "name": "stdout",
     "output_type": "stream",
     "text": [
      "The ratio of outliers is approximately: 0.0443\n"
     ]
    }
   ],
   "source": [
    "# Count examples in each class\n",
    "counter = Counter(trainy)\n",
    "# Estimate ratio of minority class, to be used as ratio of outliers.\n",
    "estimate = counter[1]/(counter[0]+counter[1])\n",
    "print(f\"The ratio of outliers is approximately: {estimate:.4f}\")"
   ]
  },
  {
   "cell_type": "code",
   "execution_count": 9,
   "id": "fa6759b8",
   "metadata": {},
   "outputs": [],
   "source": [
    "def get_models():\n",
    "    models, names = list(), list()\n",
    "    models.append(OneClassSVM(gamma='scale', nu=0.05))\n",
    "    names.append('OCSVM')\n",
    "    models.append(IsolationForest(contamination=0.05))\n",
    "    names.append('IsoForest')\n",
    "    models.append(EllipticEnvelope(contamination=0.05))\n",
    "    names.append('MCD')\n",
    "    return models, names"
   ]
  },
  {
   "cell_type": "code",
   "execution_count": 10,
   "id": "86e056be",
   "metadata": {},
   "outputs": [
    {
     "name": "stdout",
     "output_type": "stream",
     "text": [
      "655\n",
      "655\n"
     ]
    }
   ],
   "source": [
    "print(len(trainX))\n",
    "print(len(trainy))"
   ]
  },
  {
   "cell_type": "code",
   "execution_count": 11,
   "id": "a45ad6d8",
   "metadata": {},
   "outputs": [],
   "source": [
    "# We will fit the models on majority class only\n",
    "trainX = trainX[trainy==0]"
   ]
  },
  {
   "cell_type": "code",
   "execution_count": 12,
   "id": "19a0055a",
   "metadata": {},
   "outputs": [],
   "source": [
    "# Define models here\n",
    "models, names = get_models()"
   ]
  },
  {
   "cell_type": "code",
   "execution_count": 13,
   "id": "b54a4f63",
   "metadata": {},
   "outputs": [
    {
     "name": "stdout",
     "output_type": "stream",
     "text": [
      "OCSVM: 0.10810810810810811\n",
      "IsoForest: 0.15384615384615383\n"
     ]
    },
    {
     "name": "stderr",
     "output_type": "stream",
     "text": [
      "C:\\Users\\User\\anaconda3\\envs\\vnwk\\lib\\site-packages\\sklearn\\covariance\\_robust_covariance.py:647: UserWarning: The covariance matrix associated to your dataset is not full rank\n",
      "  warnings.warn(\"The covariance matrix associated to your dataset \"\n"
     ]
    },
    {
     "name": "stdout",
     "output_type": "stream",
     "text": [
      "MCD: 0.0\n"
     ]
    }
   ],
   "source": [
    "results = list()\n",
    "\n",
    "# Evaluate each model here\n",
    "for i in range(len(models)):\n",
    "    models[i].fit(trainX)\n",
    "    yhat = models[i].predict(testX)\n",
    "    # Evaluate models and store results\n",
    "    scores = f1_score(testy, yhat, pos_label=-1)\n",
    "    # Summarize and store the scores\n",
    "    print(f\"{names[i]}: {scores}\")\n",
    "    results.append(scores)"
   ]
  },
  {
   "cell_type": "markdown",
   "id": "3597ecbb",
   "metadata": {},
   "source": [
    "### Local Outlier Factor algorithm"
   ]
  },
  {
   "cell_type": "code",
   "execution_count": 14,
   "id": "372fd6e5",
   "metadata": {},
   "outputs": [],
   "source": [
    "# make a prediction with a lof model\n",
    "def lof_predict(model, trainX, testX):\n",
    "    # create one large dataset\n",
    "    composite = vstack((trainX, testX))\n",
    "    # make prediction on composite dataset\n",
    "    yhat = model.fit_predict(composite)\n",
    "    # return just the predictions on the test set\n",
    "    return yhat[len(trainX):]\n"
   ]
  },
  {
   "cell_type": "code",
   "execution_count": 15,
   "id": "6446f923",
   "metadata": {},
   "outputs": [
    {
     "name": "stdout",
     "output_type": "stream",
     "text": [
      "F-measure for Local Outlier Factor (LOF): 0.444\n"
     ]
    }
   ],
   "source": [
    "trainX, testX, trainy, testy = train_test_split(X, y, test_size=0.3, random_state=88,\n",
    "                                               stratify=y)\n",
    "\n",
    "# define outlier detection model\n",
    "model = LocalOutlierFactor(contamination=0.05)\n",
    "# get examples for just the majority class\n",
    "trainX = trainX[trainy==0]\n",
    "# detect outliers in the test set\n",
    "yhat = lof_predict(model, trainX, testX)\n",
    "# mark inliers 1, outliers -1\n",
    "testy[testy == 1] = -1\n",
    "testy[testy == 0] = 1\n",
    "# calculate score\n",
    "score = f1_score(testy, yhat, pos_label=-1)\n",
    "print('F-measure for Local Outlier Factor (LOF): %.3f' % score)\n"
   ]
  },
  {
   "cell_type": "markdown",
   "id": "77749ad4",
   "metadata": {},
   "source": [
    "**Note:**\n",
    "* We can see that it is possible to use one-class classification algorithms for imbalanced datasets.\n",
    "* One-class classification is a field of ML that provides techniques for outlier and anomaly identification.\n",
    "* It may also be possible to explore combining outlier predictions from these one-class classification algorithms, with the other imbalanced classification algorithms previously explored. This may help with identifying the minority class by tackling it from 2 different perspectives."
   ]
  },
  {
   "cell_type": "code",
   "execution_count": null,
   "id": "19e90236",
   "metadata": {},
   "outputs": [],
   "source": []
  }
 ],
 "metadata": {
  "kernelspec": {
   "display_name": "Python 3",
   "language": "python",
   "name": "python3"
  },
  "language_info": {
   "codemirror_mode": {
    "name": "ipython",
    "version": 3
   },
   "file_extension": ".py",
   "mimetype": "text/x-python",
   "name": "python",
   "nbconvert_exporter": "python",
   "pygments_lexer": "ipython3",
   "version": "3.9.4"
  }
 },
 "nbformat": 4,
 "nbformat_minor": 5
}

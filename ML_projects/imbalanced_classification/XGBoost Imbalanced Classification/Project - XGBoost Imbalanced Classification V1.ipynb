{
 "cells": [
  {
   "cell_type": "markdown",
   "id": "e7c363ed",
   "metadata": {},
   "source": [
    "# XGBoost Imbalanced Classification: Microcalcification Classification\n",
    "\n",
    "### Main techniques used:\n",
    "* Power Transforms\n",
    "* XGBoost algorithm (scale_pos_weight = XX)\n",
    "\n",
    "### Background:\n",
    "* The Mammography dataset focuses on detecting breast cancer from radiological scans, specifically the presence of clusters of microcalcifications that appear bright on a mammogram.\n",
    "* Mammograms were scanned, and images were pre-processed to extract objects/features from the mammogram images. It was eventually reduced to 6 features.\n",
    "* This dataset is quite imbalanced, with about 97.7% majority class and 2.3% minority class."
   ]
  },
  {
   "cell_type": "code",
   "execution_count": 1,
   "id": "fd32c7a5",
   "metadata": {},
   "outputs": [],
   "source": [
    "# import necessary libraries\n",
    "\n",
    "from collections import Counter\n",
    "\n",
    "from numpy import mean\n",
    "from numpy import std\n",
    "from pandas import read_csv\n",
    "from matplotlib import pyplot\n",
    "from sklearn.preprocessing import LabelEncoder\n",
    "from sklearn.preprocessing import PowerTransformer\n",
    "from sklearn.preprocessing import MinMaxScaler\n",
    "# from sklearn.pipeline import Pipeline\n",
    "from sklearn.model_selection import cross_val_score\n",
    "from sklearn.model_selection import RepeatedStratifiedKFold\n",
    "from sklearn.linear_model import LogisticRegression\n",
    "from sklearn.svm import SVC\n",
    "from sklearn.ensemble import RandomForestClassifier\n",
    "from sklearn.metrics import make_scorer\n",
    "from imblearn.metrics import geometric_mean_score\n",
    "from imblearn.pipeline import Pipeline\n",
    "\n",
    "from sklearn.dummy import DummyClassifier\n",
    "\n",
    "from xgboost import XGBClassifier\n",
    "from imblearn.under_sampling import EditedNearestNeighbours\n",
    "from imblearn.combine import SMOTEENN"
   ]
  },
  {
   "cell_type": "markdown",
   "id": "98a513af",
   "metadata": {},
   "source": [
    "### Simple EDA of the data"
   ]
  },
  {
   "cell_type": "code",
   "execution_count": 2,
   "id": "d376f440",
   "metadata": {},
   "outputs": [
    {
     "name": "stdout",
     "output_type": "stream",
     "text": [
      "(937, 50)\n",
      "Class = 1.0, Count = 41, Percentage = 4.376%\n",
      "Class = 0.0, Count = 896, Percentage = 95.624%\n"
     ]
    },
    {
     "data": {
      "image/png": "[encoded data removed]",
      "text/plain": [
       "<Figure size 432x288 with 56 Axes>"
      ]
     },
     "metadata": {
      "needs_background": "light"
     },
     "output_type": "display_data"
    }
   ],
   "source": [
    "filename = 'oil-spill.csv'\n",
    "dataframe = read_csv(filename, header=None)\n",
    "print(dataframe.shape)\n",
    "\n",
    "target = dataframe.values[:,-1]\n",
    "counter = Counter(target)\n",
    "for k, v in counter.items():\n",
    "    per = v / len(target) * 100\n",
    "    print(f\"Class = {k}, Count = {v}, Percentage = {per:.3f}%\")\n",
    "    \n",
    "ax = dataframe.hist()\n",
    "for axis in ax.flatten():\n",
    "    axis.set_title('')\n",
    "    axis.set_xticklabels([])\n",
    "    axis.set_yticklabels([])\n",
    "pyplot.show()"
   ]
  },
  {
   "cell_type": "markdown",
   "id": "01acfc59",
   "metadata": {},
   "source": [
    "### Evaluate baseline reference model"
   ]
  },
  {
   "cell_type": "code",
   "execution_count": 3,
   "id": "53de9ee7",
   "metadata": {},
   "outputs": [],
   "source": [
    "# Define a few custom functions\n",
    "\n",
    "def load_dataset(full_path):\n",
    "    # load the dataset as a numpy array\n",
    "    data = read_csv(full_path, header=None)\n",
    "    # drop unused columns\n",
    "    data.drop(22, axis=1, inplace=True)\n",
    "    data.drop(0, axis=1, inplace=True)\n",
    "    # retrieve numpy array\n",
    "    data = data.values\n",
    "    # split into input and output elements\n",
    "    X, y = data[:, :-1], data[:, -1]\n",
    "    # label encode the target variable to have the classes 0 and 1\n",
    "    y = LabelEncoder().fit_transform(y)\n",
    "    return X, y\n",
    "\n",
    "# Evaluate a model\n",
    "def evaluate_model(X, y, model):\n",
    "    # define evaluation procedure\n",
    "    cv = RepeatedStratifiedKFold(n_splits=10, n_repeats=3, random_state=1)\n",
    "    # define the model evaluation the metric\n",
    "    metric = make_scorer(geometric_mean_score)\n",
    "    # evaluate model\n",
    "    scores = cross_val_score(model, X, y, scoring=metric, cv=cv, n_jobs=-1)\n",
    "    return scores"
   ]
  },
  {
   "cell_type": "code",
   "execution_count": 4,
   "id": "b9b49925",
   "metadata": {},
   "outputs": [
    {
     "name": "stdout",
     "output_type": "stream",
     "text": [
      "(937, 47) (937,) Counter({0: 896, 1: 41})\n",
      "Mean G-Mean: 0.404 (0.207%)\n"
     ]
    }
   ],
   "source": [
    "# define the location of the dataset\n",
    "full_path = 'oil-spill.csv'\n",
    "\n",
    "# load the dataset\n",
    "X, y = load_dataset(full_path)\n",
    "\n",
    "# summarize the loaded dataset\n",
    "print(X.shape, y.shape, Counter(y))\n",
    "\n",
    "# define the reference model\n",
    "model = DummyClassifier(strategy='uniform')\n",
    "\n",
    "# evaluate the model\n",
    "scores = evaluate_model(X, y, model)\n",
    "\n",
    "# summarize performance\n",
    "# print('Mean G-Mean: %.3f (%.3f)' % (mean(scores), std(scores)))\n",
    "print(f\"Mean G-Mean: {mean(scores):.3f} ({std(scores):.3f}%)\")"
   ]
  },
  {
   "cell_type": "markdown",
   "id": "7d04c373",
   "metadata": {},
   "source": [
    "**Note:** This is the baseline reference model, with a lower limit G-mean score of 0.515. We will go on to evaluate XGBoostClassifier to see if it can do better."
   ]
  },
  {
   "cell_type": "markdown",
   "id": "50445c1e",
   "metadata": {},
   "source": [
    "### Evaluate XGBClassifier models with and without scale_pos_weights"
   ]
  },
  {
   "cell_type": "code",
   "execution_count": 5,
   "id": "2f905b8d",
   "metadata": {},
   "outputs": [
    {
     "name": "stdout",
     "output_type": "stream",
     "text": [
      "Estimate used in the class-weighted version of XGBoostClassifier(): 22\n"
     ]
    }
   ],
   "source": [
    "# Count examples in each class\n",
    "counter = Counter(y)\n",
    "# Estimate scale_pos_weight value\n",
    "estimate = round(counter[0] / counter[1])\n",
    "print(f\"Estimate used in the class-weighted version of XGBoostClassifier(): {estimate:.0f}\")\n",
    "\n",
    "def get_models():\n",
    "    models, names = list(), list()\n",
    "    models.append(XGBClassifier())\n",
    "    names.append('XGB')\n",
    "    models.append(XGBClassifier(scale_pos_weight=estimate))    \n",
    "    names.append('XGB_weighted_heuristic')\n",
    "    models.append(XGBClassifier(scale_pos_weight=100))    \n",
    "    names.append('XGB_weighted_100')\n",
    "    return models, names"
   ]
  },
  {
   "cell_type": "code",
   "execution_count": 6,
   "id": "15025559",
   "metadata": {},
   "outputs": [],
   "source": [
    "full_path = 'oil-spill.csv'\n",
    "X, y = load_dataset(full_path)\n",
    "\n",
    "# Define models here\n",
    "models, names = get_models()"
   ]
  },
  {
   "cell_type": "code",
   "execution_count": 7,
   "id": "085cc1ed",
   "metadata": {},
   "outputs": [
    {
     "name": "stdout",
     "output_type": "stream",
     "text": [
      "XGB: 0.437 (0.295)\n",
      "XGB_weighted_heuristic: 0.576 (0.233)\n",
      "XGB_weighted_100: 0.583 (0.261)\n"
     ]
    }
   ],
   "source": [
    "results = list()\n",
    "\n",
    "# Evaluate each model here\n",
    "for i in range(len(models)):\n",
    "    # Pipeline steps defined\n",
    "    steps = [('p', PowerTransformer()), ('m',models[i])]\n",
    "    # Pipeline itself defined\n",
    "    pipeline = Pipeline(steps=steps)\n",
    "    # Evaluate pipeline and store results\n",
    "    scores = evaluate_model(X, y, pipeline)\n",
    "    results.append(scores)\n",
    "    # Summarize and store results\n",
    "    print(f\"{names[i]}: {mean(scores):.3f} ({std(scores):.3f})\")"
   ]
  },
  {
   "cell_type": "code",
   "execution_count": 8,
   "id": "37955f69",
   "metadata": {},
   "outputs": [
    {
     "data": {
      "image/png": "[encoded data removed]",
      "text/plain": [
       "<Figure size 432x288 with 1 Axes>"
      ]
     },
     "metadata": {
      "needs_background": "light"
     },
     "output_type": "display_data"
    }
   ],
   "source": [
    "# Visualize above results\n",
    "\n",
    "pyplot.boxplot(results, labels=names, showmeans=True)\n",
    "pyplot.show()"
   ]
  },
  {
   "cell_type": "markdown",
   "id": "84aaab88",
   "metadata": {},
   "source": [
    "**Note:** From the results, we can see that across the board, the XGBoostClassifier provides a lift from the baseline model. In addition, specifying a value for the scale_pos_weight parameter helps to scale the error gradient for the positive class. This encourages the model to over-correct them in general.\n",
    "\n",
    "**Note:** We will go on to perform further data preprocessing and sampling methods to improve the performance."
   ]
  },
  {
   "cell_type": "markdown",
   "id": "206a6847",
   "metadata": {},
   "source": [
    "### Perform Preprocessing + Data Sampling (SMOTE + ENN) "
   ]
  },
  {
   "cell_type": "code",
   "execution_count": 9,
   "id": "ae602b86",
   "metadata": {},
   "outputs": [
    {
     "name": "stdout",
     "output_type": "stream",
     "text": [
      "Estimate used in the class-weighted version of XGBoostClassifier(): 22\n"
     ]
    }
   ],
   "source": [
    "# Count examples in each class\n",
    "counter = Counter(y)\n",
    "# Estimate scale_pos_weight value\n",
    "estimate = round(counter[0] / counter[1])\n",
    "print(f\"Estimate used in the class-weighted version of XGBoostClassifier(): {estimate:.0f}\")\n",
    "# Define the models that we want to test\n",
    "\n",
    "def get_models():\n",
    "    models, names = list(), list()\n",
    "    # SMOTEENN + Normalization + Power Transform\n",
    "    \n",
    "    # Preprocessing + default XGBClassifier\n",
    "    sampling = SMOTEENN(enn=EditedNearestNeighbours(sampling_strategy='majority'))\n",
    "    model = XGBClassifier()\n",
    "    steps = [('t1', MinMaxScaler()), ('t2', PowerTransformer()), ('e', sampling), ('m', model)]\n",
    "    models.append(Pipeline(steps=steps))\n",
    "    names.append('XGB')\n",
    "    # Preprocessing + XGBClassifier with heuristics weights\n",
    "    model = XGBClassifier(scale_pos_weight=estimate)\n",
    "    steps = [('t1', MinMaxScaler()), ('t2', PowerTransformer()), ('e', sampling), ('m', model)]\n",
    "    models.append(Pipeline(steps=steps))\n",
    "    names.append('XGB_weighted_heuristic')\n",
    "    # Preprocessing + XGBClassifier with greater weights\n",
    "    model = XGBClassifier(scale_pos_weight=100)\n",
    "    steps = [('t1', MinMaxScaler()), ('t2', PowerTransformer()), ('e', sampling), ('m', model)]\n",
    "    models.append(Pipeline(steps=steps))\n",
    "    names.append('XGB_weighted_100')\n",
    "    return models, names"
   ]
  },
  {
   "cell_type": "code",
   "execution_count": 10,
   "id": "5e47a97d",
   "metadata": {},
   "outputs": [],
   "source": [
    "full_path = 'oil-spill.csv'\n",
    "X, y = load_dataset(full_path)\n",
    "\n",
    "# Define models here\n",
    "models, names = get_models()"
   ]
  },
  {
   "cell_type": "code",
   "execution_count": 11,
   "id": "d8249c63",
   "metadata": {},
   "outputs": [
    {
     "name": "stdout",
     "output_type": "stream",
     "text": [
      "XGB 0.778 (0.122)\n",
      "XGB_weighted_heuristic 0.802 (0.127)\n",
      "XGB_weighted_100 0.838 (0.140)\n"
     ]
    }
   ],
   "source": [
    "results = list()\n",
    "\n",
    "# Evaluate each model here\n",
    "for i in range(len(models)):\n",
    "    # Evaluate models and store results\n",
    "    scores = evaluate_model(X, y, models[i])\n",
    "    # Summarize and store the scores\n",
    "    print(f\"{names[i]} {mean(scores):.3f} ({std(scores):.3f})\")\n",
    "    results.append(scores)"
   ]
  },
  {
   "cell_type": "code",
   "execution_count": 12,
   "id": "1beb57eb",
   "metadata": {},
   "outputs": [
    {
     "data": {
      "image/png": "[encoded data removed]",
      "text/plain": [
       "<Figure size 432x288 with 1 Axes>"
      ]
     },
     "metadata": {
      "needs_background": "light"
     },
     "output_type": "display_data"
    }
   ],
   "source": [
    "# Visualize above results\n",
    "\n",
    "pyplot.boxplot(results, labels=names, showmeans=True)\n",
    "pyplot.show()"
   ]
  },
  {
   "cell_type": "markdown",
   "id": "75f7a202",
   "metadata": {},
   "source": [
    "**Note:** From the results, we can see that performing some data preprocessing and using SMOTE+ENN to reduce the data imbalanced has helpd improve the performance of the XGBoostClassifier algorithm. Similarly, XGBClassifiers provided with a value for the scale_pos_weight hyperparameter did better."
   ]
  },
  {
   "cell_type": "code",
   "execution_count": null,
   "id": "003fd1b6",
   "metadata": {},
   "outputs": [],
   "source": []
  }
 ],
 "metadata": {
  "kernelspec": {
   "display_name": "Python 3",
   "language": "python",
   "name": "python3"
  },
  "language_info": {
   "codemirror_mode": {
    "name": "ipython",
    "version": 3
   },
   "file_extension": ".py",
   "mimetype": "text/x-python",
   "name": "python",
   "nbconvert_exporter": "python",
   "pygments_lexer": "ipython3",
   "version": "3.9.4"
  }
 },
 "nbformat": 4,
 "nbformat_minor": 5
}

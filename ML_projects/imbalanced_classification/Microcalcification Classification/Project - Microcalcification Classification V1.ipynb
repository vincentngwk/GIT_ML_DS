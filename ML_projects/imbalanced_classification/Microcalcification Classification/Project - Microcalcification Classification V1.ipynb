{
 "cells": [
  {
   "cell_type": "markdown",
   "id": "756cf30b",
   "metadata": {},
   "source": [
    "# Imbalanced Classification: Microcalcification Classification\n",
    "\n",
    "### Main techniques used:\n",
    "* Power Transforms\n",
    "* Cost Sensitive classification algorithms (class_weights = 'balanced')\n",
    "\n",
    "### Background:\n",
    "* The Mammography dataset focuses on detecting breast cancer from radiological scans, specifically the presence of clusters of microcalcifications that appear bright on a mammogram.\n",
    "* Mammograms were scanned, and images were pre-processed to extract objects/features from the mammogram images. It was eventually reduced to 6 features."
   ]
  },
  {
   "cell_type": "code",
   "execution_count": 1,
   "id": "bf96f848",
   "metadata": {},
   "outputs": [],
   "source": [
    "# import necessary libraries\n",
    "\n",
    "from collections import Counter\n",
    "\n",
    "from numpy import mean\n",
    "from numpy import std\n",
    "from pandas import read_csv\n",
    "from matplotlib import pyplot\n",
    "from sklearn.preprocessing import LabelEncoder\n",
    "from sklearn.preprocessing import PowerTransformer\n",
    "from sklearn.pipeline import Pipeline\n",
    "from sklearn.model_selection import cross_val_score\n",
    "from sklearn.model_selection import RepeatedStratifiedKFold\n",
    "from sklearn.linear_model import LogisticRegression\n",
    "from sklearn.svm import SVC\n",
    "from sklearn.ensemble import RandomForestClassifier\n",
    "\n",
    "from sklearn.dummy import DummyClassifier"
   ]
  },
  {
   "cell_type": "markdown",
   "id": "e1ad7664",
   "metadata": {},
   "source": [
    "### Simple EDA of the data"
   ]
  },
  {
   "cell_type": "code",
   "execution_count": 2,
   "id": "810fe50b",
   "metadata": {},
   "outputs": [
    {
     "name": "stdout",
     "output_type": "stream",
     "text": [
      "(11183, 7)\n",
      "Class = '-1', Count = 10923, Percentage = 97.675%\n",
      "Class = '1', Count = 260, Percentage = 2.325%\n"
     ]
    }
   ],
   "source": [
    "filename = 'mammography.csv'\n",
    "dataframe = read_csv(filename, header=None)\n",
    "print(dataframe.shape)\n",
    "\n",
    "# Summarize the class distribution here\n",
    "target = dataframe.values[:, -1]\n",
    "counter = Counter(target)\n",
    "for k, v in counter.items():\n",
    "    per = v / len(target) * 100\n",
    "    print(f\"Class = {k}, Count = {v}, Percentage = {per:.3f}%\")"
   ]
  },
  {
   "cell_type": "code",
   "execution_count": 3,
   "id": "f08a44c5",
   "metadata": {},
   "outputs": [
    {
     "data": {
      "image/png": "[encoded data removed]",
      "text/plain": [
       "<Figure size 432x288 with 6 Axes>"
      ]
     },
     "metadata": {
      "needs_background": "light"
     },
     "output_type": "display_data"
    }
   ],
   "source": [
    "# Visualize the numeric variables with a histogram\n",
    "dataframe.hist()\n",
    "pyplot.show()"
   ]
  },
  {
   "cell_type": "markdown",
   "id": "fc4ee5a3",
   "metadata": {},
   "source": [
    "**Note:** We can see that the variables hav differing scales, and many have an exponential distribution. It may be useful to perform some power transforms before further modelling."
   ]
  },
  {
   "cell_type": "markdown",
   "id": "624ab723",
   "metadata": {},
   "source": [
    "### Evaluate baseline model for reference"
   ]
  },
  {
   "cell_type": "code",
   "execution_count": 4,
   "id": "0e25e647",
   "metadata": {},
   "outputs": [],
   "source": [
    "# Define a few custom functions\n",
    "def load_dataset(full_path):\n",
    "    data = read_csv(full_path, header=None)\n",
    "    data = data.values\n",
    "    X, y = data[:, :-1], data[:, -1]\n",
    "    # perform label encoding on the target variable to get classes 0 and 1\n",
    "    y = LabelEncoder().fit_transform(y)\n",
    "    return X, y\n",
    "\n",
    "# Evaluate model\n",
    "def evaluate_model(X, y, model):\n",
    "    cv = RepeatedStratifiedKFold(n_splits=10, n_repeats=3, random_state=88)\n",
    "    scores = cross_val_score(model, X, y, scoring='roc_auc', cv=cv, n_jobs=-1)\n",
    "    return scores"
   ]
  },
  {
   "cell_type": "code",
   "execution_count": 5,
   "id": "3c8a0eb0",
   "metadata": {},
   "outputs": [
    {
     "name": "stdout",
     "output_type": "stream",
     "text": [
      "(11183, 6) (11183,) Counter({0: 10923, 1: 260})\n",
      "Mean ROC AUC: 0.502 (0.015)\n"
     ]
    }
   ],
   "source": [
    "full_path = 'mammography.csv'\n",
    "X, y = load_dataset(full_path)\n",
    "\n",
    "# Summarize the dataset\n",
    "print(X.shape, y.shape, Counter(y))\n",
    "\n",
    "model = DummyClassifier(strategy = 'stratified')\n",
    "\n",
    "scores = evaluate_model(X, y, model)\n",
    "\n",
    "# Summarize baseline model performance\n",
    "print(f\"Mean ROC AUC: {mean(scores):.3f} ({std(scores):.3f})\")"
   ]
  },
  {
   "cell_type": "markdown",
   "id": "84a329eb",
   "metadata": {},
   "source": [
    "**Note:** The baseline performance for ROC AUC is 0.5. This provides a lower limit on the skill of subsequent models."
   ]
  },
  {
   "cell_type": "markdown",
   "id": "5e7b85b2",
   "metadata": {},
   "source": [
    "### Evaluate Cost Sensitive models"
   ]
  },
  {
   "cell_type": "code",
   "execution_count": 6,
   "id": "cb919307",
   "metadata": {},
   "outputs": [],
   "source": [
    "def get_models():\n",
    "    models, names = list(), list()\n",
    "    # Logistic Regression\n",
    "    models.append(LogisticRegression(solver='lbfgs', class_weight='balanced'))\n",
    "    names.append('LR')\n",
    "    # Support Vector Machine classifier\n",
    "    models.append(SVC(gamma='scale', class_weight='balanced'))\n",
    "    names.append('SVM')\n",
    "    # Random Forest\n",
    "    models.append(RandomForestClassifier(n_estimators=1000, class_weight='balanced'))\n",
    "    names.append('RF')\n",
    "    return models, names"
   ]
  },
  {
   "cell_type": "code",
   "execution_count": 7,
   "id": "96b05e29",
   "metadata": {},
   "outputs": [],
   "source": [
    "full_path = 'mammography.csv'\n",
    "X, y = load_dataset(full_path)\n",
    "\n",
    "# Define models here\n",
    "models, names = get_models()"
   ]
  },
  {
   "cell_type": "code",
   "execution_count": 8,
   "id": "5986b9a2",
   "metadata": {},
   "outputs": [
    {
     "name": "stdout",
     "output_type": "stream",
     "text": [
      "LR: 0.923 (0.036)\n",
      "SVM: 0.957 (0.023)\n",
      "RF: 0.924 (0.034)\n"
     ]
    }
   ],
   "source": [
    "results = list()\n",
    "\n",
    "# Evaluate each model here\n",
    "for i in range(len(models)):\n",
    "    # Pipeline steps defined\n",
    "    steps = [('p', PowerTransformer()), ('m',models[i])]\n",
    "    # Pipeline itself defined\n",
    "    pipeline = Pipeline(steps=steps)\n",
    "    # Evaluate pipeline and store results\n",
    "    scores = evaluate_model(X, y, pipeline)\n",
    "    results.append(scores)\n",
    "    # Summarize and store results\n",
    "    print(f\"{names[i]}: {mean(scores):.3f} ({std(scores):.3f})\")\n"
   ]
  },
  {
   "cell_type": "code",
   "execution_count": 9,
   "id": "d7d5ece6",
   "metadata": {},
   "outputs": [
    {
     "data": {
      "image/png": "[encoded data removed]",
      "text/plain": [
       "<Figure size 432x288 with 1 Axes>"
      ]
     },
     "metadata": {
      "needs_background": "light"
     },
     "output_type": "display_data"
    }
   ],
   "source": [
    "# Visualize above results\n",
    "\n",
    "pyplot.boxplot(results, labels=names, showmeans=True)\n",
    "pyplot.show()"
   ]
  },
  {
   "cell_type": "markdown",
   "id": "e921d382",
   "metadata": {},
   "source": [
    "**Note:** Looking at the results, it seems that cost-sensitive SVM with power transforms applied has the best result at ROC-AUC = 0.95."
   ]
  },
  {
   "cell_type": "markdown",
   "id": "b3c546e6",
   "metadata": {},
   "source": [
    "### Further steps:\n",
    "* One can further tune the hyperparameters of the best performing model.\n",
    "* Standard approaches such as GridSearchCV can be applied."
   ]
  },
  {
   "cell_type": "code",
   "execution_count": null,
   "id": "b3a36499",
   "metadata": {},
   "outputs": [],
   "source": []
  }
 ],
 "metadata": {
  "kernelspec": {
   "display_name": "Python 3",
   "language": "python",
   "name": "python3"
  },
  "language_info": {
   "codemirror_mode": {
    "name": "ipython",
    "version": 3
   },
   "file_extension": ".py",
   "mimetype": "text/x-python",
   "name": "python",
   "nbconvert_exporter": "python",
   "pygments_lexer": "ipython3",
   "version": "3.9.4"
  }
 },
 "nbformat": 4,
 "nbformat_minor": 5
}

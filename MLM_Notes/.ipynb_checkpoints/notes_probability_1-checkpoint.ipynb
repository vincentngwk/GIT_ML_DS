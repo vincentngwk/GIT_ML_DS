{
 "cells": [
  {
   "cell_type": "markdown",
   "metadata": {},
   "source": [
    "# Probability for Machine Learning"
   ]
  },
  {
   "cell_type": "markdown",
   "metadata": {},
   "source": [
    "This notebook contains select concepts regarding probability for Machine Learning.\n",
    "\n",
    "Credits to Machine Learning Mastery books."
   ]
  },
  {
   "cell_type": "markdown",
   "metadata": {},
   "source": [
    "### Overview\n",
    "\n",
    "1) Information Theory - Divergence between probability distributions\n",
    "\n",
    "2) Classification - How to develop and evaluate Naive Classifier Strategies\n",
    "\n",
    "3) Classification - When to use ROC curves and Precision-Recall strategies"
   ]
  },
  {
   "cell_type": "markdown",
   "metadata": {},
   "source": [
    "### 1) Information Theory - Divergence between probability distributions\n",
    "Overview:\n",
    "\n",
    "Divergence between probability distributions can inform us of possible concept/ model drift between training distributions and what is observed in future test datasets. This may provide an indication of the need to update any models.\n",
    "\n",
    "\n",
    "Key Points:\n",
    "\n",
    "*Statistical Distance*\n",
    "- Statistical distance is the general idea of calculating the difference between statistical objects like different probability distributions for a random variable.\n",
    "\n",
    "*Kullback-Leibler Divergence*\n",
    "- The KL divergence score quantifies how much 1 probability distribution differs from another probability distribution.\n",
    "\n",
    "*Jensen-Shannon Divergence*\n",
    "- The JS divergence is another way to quantify the difference (or similarity) between 2 probability distributions. It uses the KL divergence to calculte a normalized score that is symmetrical. This means that the divergence of P from Q is the same as Q from P."
   ]
  },
  {
   "cell_type": "markdown",
   "metadata": {},
   "source": [
    "#### *Kullback-Leibler Divergence*"
   ]
  },
  {
   "cell_type": "code",
   "execution_count": 7,
   "metadata": {},
   "outputs": [
    {
     "name": "stdout",
     "output_type": "stream",
     "text": [
      "KL(P || Q): 1.336 nats\n",
      "KL(Q || P): 1.401 nats\n"
     ]
    }
   ],
   "source": [
    "# Example of calculating the kl divergence (relative entropy) with scipy\n",
    "from scipy.special import rel_entr\n",
    "\n",
    "# Define distributions \n",
    "p = [0.10, 0.40, 0.50]\n",
    "q = [0.80, 0.15, 0.05]\n",
    "\n",
    "# Calculate (P||Q)\n",
    "kl_pq = rel_entr(p, q)\n",
    "print('KL(P || Q): %.3f nats' % sum(kl_pq))\n",
    "\n",
    "# Calculate (Q || P)\n",
    "kl_qp = rel_entr(q, p)\n",
    "print('KL(Q || P): %.3f nats' % sum(kl_qp))"
   ]
  },
  {
   "cell_type": "markdown",
   "metadata": {},
   "source": [
    "#### *Jensen-Shannon Divergence*"
   ]
  },
  {
   "cell_type": "code",
   "execution_count": 6,
   "metadata": {},
   "outputs": [
    {
     "name": "stdout",
     "output_type": "stream",
     "text": [
      "JS(P || Q) Distance: 0.648\n",
      "JS(Q || P) Distance: 0.648\n"
     ]
    }
   ],
   "source": [
    "# Calculate the jensen-shannon distance metric\n",
    "from scipy.spatial.distance import jensenshannon\n",
    "from numpy import asarray\n",
    "\n",
    "# Define distribution\n",
    "p = asarray([0.10, 0.40, 0.50])\n",
    "q = asarray([0.80, 0.15, 0.05])\n",
    "\n",
    "# Calculate JS(P || Q)\n",
    "js_pq = jensenshannon(p, q, base = 2)\n",
    "print('JS(P || Q) Distance: %.3f' % js_pq)\n",
    "\n",
    "# Calculate JS(Q || P)\n",
    "js_qp = jensenshannon(q, p, base = 2)\n",
    "print('JS(Q || P) Distance: %.3f' % js_qp)\n"
   ]
  },
  {
   "cell_type": "markdown",
   "metadata": {},
   "source": [
    "### 2) Classification - How to develop and evaluate Naive Classifier Strategies\n",
    "Overview:\n",
    "\n",
    "A Naive Classifier is a simple classification model that assumes little to nothing about the problem and the performance of which provides a baseline by which all other models evaluated on a dataset can be compared. It is useful to develop a small probability framework to calculate the expected performance of a given naive classification strategy and to perform experiments to confirm the theoretical expectations.\n",
    "\n",
    "Key points:\n",
    "- Performance of naive classification models provides a baseline by which all other models can be deemed skillful or not.\n",
    "- The majority class classifier achieves better accuracy than other naive classifier models such as random guessing and predicting a randomly selected observed class label.\n",
    "- Naive classifier strategies can be used on predictive modeling projects via the DummyClassifier class in the scikit-learn library.\n",
    "\n"
   ]
  },
  {
   "cell_type": "markdown",
   "metadata": {},
   "source": [
    "#### *DummyClassifier*"
   ]
  },
  {
   "cell_type": "markdown",
   "metadata": {},
   "source": [
    "The DummyClassifier from scikit-learn is flexible and allows 2 other naive classifiers to also be used:\n",
    "\n",
    "- Random Guess: Set the strategy argument to 'uniform'\n",
    "- Select Random Class: Set the strategy argument to 'stratified'\n",
    "- Majority Class: Set the strategy argument to 'most_frequent' (recommended)"
   ]
  },
  {
   "cell_type": "code",
   "execution_count": 9,
   "metadata": {},
   "outputs": [
    {
     "name": "stdout",
     "output_type": "stream",
     "text": [
      "Accuracy: 0.750\n"
     ]
    }
   ],
   "source": [
    "# Example of the majority class naive classifier in scikit-learn\n",
    "from numpy import asarray\n",
    "from sklearn.dummy import DummyClassifier\n",
    "from sklearn.metrics import accuracy_score\n",
    "\n",
    "# Define dataset\n",
    "X = asarray([0 for _ in range(100)])\n",
    "class0 = [0 for _ in range(25)]\n",
    "class1 = [1 for _ in range(75)]\n",
    "y = asarray(class0 + class1)\n",
    "\n",
    "# Reshape data for sklearn\n",
    "X = X.reshape((len(X), 1))\n",
    "\n",
    "# Define model\n",
    "model = DummyClassifier(strategy = 'most_frequent')\n",
    "\n",
    "# Fit model\n",
    "model.fit(X, y)\n",
    "\n",
    "# Make predictions\n",
    "yhat = model.predict(X)\n",
    "\n",
    "# Calculate accuracy\n",
    "accuracy = accuracy_score(y, yhat)\n",
    "print('Accuracy: %.3f' % accuracy)\n"
   ]
  },
  {
   "cell_type": "markdown",
   "metadata": {},
   "source": [
    "### 3) Classification - When to use ROC curves and Precision-Recall strategies\n",
    "Overview:\n",
    "\n",
    "It can be more flexible to predict probabilities of an observation belonging to each class in a classification problem rather than predicting classes directly. This allows the operator of the model to trade-off concerns in the errors made by the model, such as number of False Positives compared to the number of False Negatives. This is required when using models where the cost of 1 error outweighs the cost of other types of errors.\n",
    "\n",
    "Key Points:\n",
    "- ROC curves summarize the trade-off between the true positive rate and false positive rate for a predictive model using different probability thresholds.\n",
    "- Precision-Recall curves summarize the trade-off between the true positive rate and the positive predictive value for a predictive model using different probability thresholds.\n",
    "- ROC curves are appropriate when the observations are balanced between each class, whereas Precision-Recall curves are appropriate for imbalanced datasets.\n",
    "\n",
    "\n",
    "- ROC curves should be used when there are roughly equal numbers of observations for each class.\n",
    "- Precision-Recall curves should be used when there is a moderate to large class imbalance."
   ]
  },
  {
   "cell_type": "markdown",
   "metadata": {},
   "source": [
    "*Note:*\n",
    "\n",
    "- True Positive Rate is also referred to as Sensitivity or Recall.\n",
    "- Sensitivity = TP / (TP + FN)\n",
    "- False Positive Rate = FP / (FP + TN)\n",
    "- Specificity = TN / (TN + FP)\n",
    "- False Positive Rate = 1 - Specificity\n",
    "- Positive Predictive Power is also referred to as Precision.\n",
    "- Precision = TP / (TP + FP)\n",
    "\n",
    "\n",
    "- ROC curve >> Top left is best. Diagonal line is no-skill model.\n",
    "- Precision-Recall curve >> Top right is best. Horizontal line is no-skill model. (For balanced datsets, this horizontal line value is 0.5)\n"
   ]
  },
  {
   "cell_type": "markdown",
   "metadata": {},
   "source": [
    "#### *ROC Curve and AUC*"
   ]
  },
  {
   "cell_type": "code",
   "execution_count": 10,
   "metadata": {},
   "outputs": [
    {
     "name": "stdout",
     "output_type": "stream",
     "text": [
      "No Skill: ROC AUC=0.500\n",
      "Logistic: ROC AUC=0.903\n"
     ]
    },
    {
     "data": {
      "image/png": "[encoded data removed]",
      "text/plain": [
       "<Figure size 432x288 with 1 Axes>"
      ]
     },
     "metadata": {
      "needs_background": "light"
     },
     "output_type": "display_data"
    }
   ],
   "source": [
    "# ROC curve and AUC\n",
    "from sklearn.datasets import make_classification\n",
    "from sklearn.linear_model import LogisticRegression\n",
    "from sklearn.model_selection import train_test_split\n",
    "from sklearn.metrics import roc_curve\n",
    "from sklearn.metrics import roc_auc_score\n",
    "from matplotlib import pyplot\n",
    "\n",
    "# generate 2 class dataset\n",
    "X, y = make_classification(n_samples=1000, n_classes=2, random_state=1)\n",
    "# split into train/test sets\n",
    "trainX, testX, trainy, testy = train_test_split(X, y, test_size=0.5, random_state=2)\n",
    "\n",
    "# generate a no skill prediction (majority class)\n",
    "ns_probs = [0 for _ in range(len(testy))]\n",
    "\n",
    "# fit a model\n",
    "model = LogisticRegression(solver='lbfgs')\n",
    "model.fit(trainX, trainy)\n",
    "# predict probabilities\n",
    "lr_probs = model.predict_proba(testX)\n",
    "# keep probabilities for the positive outcome only\n",
    "lr_probs = lr_probs[:, 1]\n",
    "\n",
    "# calculate scores\n",
    "ns_auc = roc_auc_score(testy, ns_probs)\n",
    "lr_auc = roc_auc_score(testy, lr_probs)\n",
    "\n",
    "# summarize scores\n",
    "print('No Skill: ROC AUC=%.3f' % (ns_auc))\n",
    "print('Logistic: ROC AUC=%.3f' % (lr_auc))\n",
    "\n",
    "# calculate roc curves\n",
    "ns_fpr, ns_tpr, _ = roc_curve(testy, ns_probs)\n",
    "lr_fpr, lr_tpr, _ = roc_curve(testy, lr_probs)\n",
    "\n",
    "# plot the roc curve for the model\n",
    "pyplot.plot(ns_fpr, ns_tpr, linestyle='--', label='No Skill')\n",
    "pyplot.plot(lr_fpr, lr_tpr, marker='.', label='Logistic')\n",
    "\n",
    "# axis labels\n",
    "pyplot.xlabel('False Positive Rate')\n",
    "pyplot.ylabel('True Positive Rate')\n",
    "# show the legend\n",
    "pyplot.legend()\n",
    "# show the plot\n",
    "pyplot.show()"
   ]
  },
  {
   "cell_type": "markdown",
   "metadata": {},
   "source": [
    "#### *Precision-Recall curve and F1 score*"
   ]
  },
  {
   "cell_type": "code",
   "execution_count": 11,
   "metadata": {},
   "outputs": [
    {
     "name": "stdout",
     "output_type": "stream",
     "text": [
      "Logistic: f1=0.841 auc=0.898\n"
     ]
    },
    {
     "data": {
      "image/png": "[encoded data removed]",
      "text/plain": [
       "<Figure size 432x288 with 1 Axes>"
      ]
     },
     "metadata": {
      "needs_background": "light"
     },
     "output_type": "display_data"
    }
   ],
   "source": [
    "# Precision-Recall curve and F1\n",
    "from sklearn.datasets import make_classification\n",
    "from sklearn.linear_model import LogisticRegression\n",
    "from sklearn.model_selection import train_test_split\n",
    "from sklearn.metrics import precision_recall_curve\n",
    "from sklearn.metrics import f1_score\n",
    "from sklearn.metrics import auc\n",
    "from matplotlib import pyplot\n",
    "\n",
    "# generate 2 class dataset\n",
    "X, y = make_classification(n_samples=1000, n_classes=2, random_state=1)\n",
    "# split into train/test sets\n",
    "trainX, testX, trainy, testy = train_test_split(X, y, test_size=0.5, random_state=2)\n",
    "\n",
    "# fit a model\n",
    "model = LogisticRegression(solver='lbfgs')\n",
    "model.fit(trainX, trainy)\n",
    "# predict probabilities\n",
    "lr_probs = model.predict_proba(testX)\n",
    "# keep probabilities for the positive outcome only\n",
    "lr_probs = lr_probs[:, 1]\n",
    "\n",
    "# predict class values\n",
    "yhat = model.predict(testX)\n",
    "lr_precision, lr_recall, _ = precision_recall_curve(testy, lr_probs)\n",
    "lr_f1, lr_auc = f1_score(testy, yhat), auc(lr_recall, lr_precision)\n",
    "\n",
    "# summarize scores\n",
    "print('Logistic: f1=%.3f auc=%.3f' % (lr_f1, lr_auc))\n",
    "# plot the precision-recall curves\n",
    "no_skill = len(testy[testy==1]) / len(testy)\n",
    "pyplot.plot([0, 1], [no_skill, no_skill], linestyle='--', label='No Skill')\n",
    "pyplot.plot(lr_recall, lr_precision, marker='.', label='Logistic')\n",
    "\n",
    "# axis labels\n",
    "pyplot.xlabel('Recall')\n",
    "pyplot.ylabel('Precision')\n",
    "# show the legend\n",
    "pyplot.legend()\n",
    "# show the plot\n",
    "pyplot.show()"
   ]
  }
 ],
 "metadata": {
  "kernelspec": {
   "display_name": "Python 3",
   "language": "python",
   "name": "python3"
  },
  "language_info": {
   "codemirror_mode": {
    "name": "ipython",
    "version": 3
   },
   "file_extension": ".py",
   "mimetype": "text/x-python",
   "name": "python",
   "nbconvert_exporter": "python",
   "pygments_lexer": "ipython3",
   "version": "3.7.9"
  }
 },
 "nbformat": 4,
 "nbformat_minor": 4
}
